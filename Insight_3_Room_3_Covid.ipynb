{
  "nbformat": 4,
  "nbformat_minor": 0,
  "metadata": {
    "colab": {
      "provenance": []
    },
    "kernelspec": {
      "name": "python3",
      "display_name": "Python 3"
    },
    "language_info": {
      "name": "python"
    }
  },
  "cells": [
    {
      "cell_type": "code",
      "execution_count": 67,
      "metadata": {
        "colab": {
          "base_uri": "https://localhost:8080/"
        },
        "id": "x3ef4umc9Pew",
        "outputId": "e7a4519f-5a5c-4ca8-fdb2-256743f4cf36"
      },
      "outputs": [
        {
          "output_type": "execute_result",
          "data": {
            "text/plain": [
              "str"
            ]
          },
          "metadata": {},
          "execution_count": 67
        }
      ],
      "source": [
        "import pandas as pd\n",
        "import numpy as np\n",
        "\n",
        "path =\"/content/raw_data.txt\"\n",
        "\n",
        "with open(path, 'r') as f:\n",
        "  data = f.read()\n",
        "\n",
        "type(data)"
      ]
    },
    {
      "cell_type": "code",
      "source": [
        "import ast\n",
        "data = ast.literal_eval(data)\n",
        "data.keys()"
      ],
      "metadata": {
        "colab": {
          "base_uri": "https://localhost:8080/"
        },
        "id": "KoN-Fn_s90iI",
        "outputId": "fa2b0e59-783c-459e-b39c-eb2eed75c889"
      },
      "execution_count": 68,
      "outputs": [
        {
          "output_type": "execute_result",
          "data": {
            "text/plain": [
              "dict_keys(['data', 'update'])"
            ]
          },
          "metadata": {},
          "execution_count": 68
        }
      ]
    },
    {
      "cell_type": "code",
      "source": [
        "data['data']"
      ],
      "metadata": {
        "colab": {
          "base_uri": "https://localhost:8080/"
        },
        "id": "k-Ay0nX1-Rpk",
        "outputId": "79e98976-0ea7-4c1e-aa8c-099616711222"
      },
      "execution_count": 69,
      "outputs": [
        {
          "output_type": "execute_result",
          "data": {
            "text/plain": [
              "{'id': 1,\n",
              " 'jumlah_odp': 2288,\n",
              " 'jumlah_pdp': 0,\n",
              " 'total_spesimen': 107498588,\n",
              " 'total_spesimen_negatif': 93580738}"
            ]
          },
          "metadata": {},
          "execution_count": 69
        }
      ]
    },
    {
      "cell_type": "code",
      "source": [
        "for i in data['update'].keys():\n",
        "  print(f\"{i} : {len(data['update'][i])}\")"
      ],
      "metadata": {
        "colab": {
          "base_uri": "https://localhost:8080/"
        },
        "id": "_G0NQgbF-XoQ",
        "outputId": "8236e24d-e5e9-4a70-dd3f-7ec7a646e020"
      },
      "execution_count": 70,
      "outputs": [
        {
          "output_type": "stream",
          "name": "stdout",
          "text": [
            "penambahan : 6\n",
            "harian : 924\n",
            "total : 4\n"
          ]
        }
      ]
    },
    {
      "cell_type": "code",
      "source": [
        "data['update']['penambahan']"
      ],
      "metadata": {
        "colab": {
          "base_uri": "https://localhost:8080/"
        },
        "id": "IlT07yqv-4xl",
        "outputId": "81aaf2b4-2eca-4162-cccf-f2ce3efb519c"
      },
      "execution_count": 71,
      "outputs": [
        {
          "output_type": "execute_result",
          "data": {
            "text/plain": [
              "{'jumlah_positif': 1939,\n",
              " 'jumlah_meninggal': 13,\n",
              " 'jumlah_sembuh': 2725,\n",
              " 'jumlah_dirawat': -799,\n",
              " 'tanggal': '2022-09-11',\n",
              " 'created': '2022-09-11 16:36:05'}"
            ]
          },
          "metadata": {},
          "execution_count": 71
        }
      ]
    },
    {
      "cell_type": "code",
      "source": [
        "data['update']['total']"
      ],
      "metadata": {
        "colab": {
          "base_uri": "https://localhost:8080/"
        },
        "id": "QGv6FUw__BTy",
        "outputId": "b2bde3d3-19d2-4873-9058-2fe1ee513354"
      },
      "execution_count": 72,
      "outputs": [
        {
          "output_type": "execute_result",
          "data": {
            "text/plain": [
              "{'jumlah_positif': 6392492,\n",
              " 'jumlah_dirawat': 33946,\n",
              " 'jumlah_sembuh': 6200776,\n",
              " 'jumlah_meninggal': 157770}"
            ]
          },
          "metadata": {},
          "execution_count": 72
        }
      ]
    },
    {
      "cell_type": "code",
      "source": [
        "len(data['update']['harian'])"
      ],
      "metadata": {
        "colab": {
          "base_uri": "https://localhost:8080/"
        },
        "id": "nNU2WVpsCz5-",
        "outputId": "25f67fcb-1037-4fbf-9e9f-f47710c252bf"
      },
      "execution_count": 73,
      "outputs": [
        {
          "output_type": "execute_result",
          "data": {
            "text/plain": [
              "924"
            ]
          },
          "metadata": {},
          "execution_count": 73
        }
      ]
    },
    {
      "cell_type": "code",
      "source": [
        "n_rows = len(data['update']['harian'])\n",
        "\n",
        "cols = ['key_as_string', 'key', 'doc_count', 'jumlah_meninggal', 'jumlah_sembuh', 'jumlah_positif', 'jumlah_dirawat', 'jumlah_positif_kum', 'jumlah_sembuh_kum', 'jumlah_meninggal_kum', 'jumlah_dirawat_kum']\n",
        "\n",
        "data_dict = {col: [] for col in cols}\n",
        "\n",
        "for i in range(n_rows):\n",
        "    for col in cols:\n",
        "        if col == 'jumlah_meninggal' or col == 'jumlah_sembuh' or col == 'jumlah_positif' or \\\n",
        "           col == 'jumlah_dirawat' or col == 'jumlah_positif_kum' or col == 'jumlah_sembuh_kum' or \\\n",
        "           col == 'jumlah_meninggal_kum' or col == 'jumlah_dirawat_kum':\n",
        "            data_dict[col].append(data['update']['harian'][i][col]['value'])\n",
        "        else:\n",
        "            data_dict[col].append(data['update']['harian'][i][col])\n",
        "\n",
        "df = pd.DataFrame(data_dict)\n",
        "df.head()"
      ],
      "metadata": {
        "colab": {
          "base_uri": "https://localhost:8080/",
          "height": 357
        },
        "id": "LOjRRPkZapDZ",
        "outputId": "bc02f49c-2050-4f91-e2a4-b8d174830fa6"
      },
      "execution_count": 74,
      "outputs": [
        {
          "output_type": "execute_result",
          "data": {
            "text/plain": [
              "              key_as_string            key  doc_count  jumlah_meninggal  \\\n",
              "0  2020-03-02T00:00:00.000Z  1583107200000          1                 0   \n",
              "1  2020-03-03T00:00:00.000Z  1583193600000          1                 0   \n",
              "2  2020-03-04T00:00:00.000Z  1583280000000          1                 0   \n",
              "3  2020-03-05T00:00:00.000Z  1583366400000          1                 0   \n",
              "4  2020-03-06T00:00:00.000Z  1583452800000          1                 0   \n",
              "\n",
              "   jumlah_sembuh  jumlah_positif  jumlah_dirawat  jumlah_positif_kum  \\\n",
              "0              0               2               2                   2   \n",
              "1              0               0               0                   2   \n",
              "2              0               0               0                   2   \n",
              "3              0               0               0                   2   \n",
              "4              0               2               2                   4   \n",
              "\n",
              "   jumlah_sembuh_kum  jumlah_meninggal_kum  jumlah_dirawat_kum  \n",
              "0                  0                     0                   2  \n",
              "1                  0                     0                   2  \n",
              "2                  0                     0                   2  \n",
              "3                  0                     0                   2  \n",
              "4                  0                     0                   4  "
            ],
            "text/html": [
              "\n",
              "  <div id=\"df-0f9259b9-68c9-4f04-bd4f-1c53c0736496\">\n",
              "    <div class=\"colab-df-container\">\n",
              "      <div>\n",
              "<style scoped>\n",
              "    .dataframe tbody tr th:only-of-type {\n",
              "        vertical-align: middle;\n",
              "    }\n",
              "\n",
              "    .dataframe tbody tr th {\n",
              "        vertical-align: top;\n",
              "    }\n",
              "\n",
              "    .dataframe thead th {\n",
              "        text-align: right;\n",
              "    }\n",
              "</style>\n",
              "<table border=\"1\" class=\"dataframe\">\n",
              "  <thead>\n",
              "    <tr style=\"text-align: right;\">\n",
              "      <th></th>\n",
              "      <th>key_as_string</th>\n",
              "      <th>key</th>\n",
              "      <th>doc_count</th>\n",
              "      <th>jumlah_meninggal</th>\n",
              "      <th>jumlah_sembuh</th>\n",
              "      <th>jumlah_positif</th>\n",
              "      <th>jumlah_dirawat</th>\n",
              "      <th>jumlah_positif_kum</th>\n",
              "      <th>jumlah_sembuh_kum</th>\n",
              "      <th>jumlah_meninggal_kum</th>\n",
              "      <th>jumlah_dirawat_kum</th>\n",
              "    </tr>\n",
              "  </thead>\n",
              "  <tbody>\n",
              "    <tr>\n",
              "      <th>0</th>\n",
              "      <td>2020-03-02T00:00:00.000Z</td>\n",
              "      <td>1583107200000</td>\n",
              "      <td>1</td>\n",
              "      <td>0</td>\n",
              "      <td>0</td>\n",
              "      <td>2</td>\n",
              "      <td>2</td>\n",
              "      <td>2</td>\n",
              "      <td>0</td>\n",
              "      <td>0</td>\n",
              "      <td>2</td>\n",
              "    </tr>\n",
              "    <tr>\n",
              "      <th>1</th>\n",
              "      <td>2020-03-03T00:00:00.000Z</td>\n",
              "      <td>1583193600000</td>\n",
              "      <td>1</td>\n",
              "      <td>0</td>\n",
              "      <td>0</td>\n",
              "      <td>0</td>\n",
              "      <td>0</td>\n",
              "      <td>2</td>\n",
              "      <td>0</td>\n",
              "      <td>0</td>\n",
              "      <td>2</td>\n",
              "    </tr>\n",
              "    <tr>\n",
              "      <th>2</th>\n",
              "      <td>2020-03-04T00:00:00.000Z</td>\n",
              "      <td>1583280000000</td>\n",
              "      <td>1</td>\n",
              "      <td>0</td>\n",
              "      <td>0</td>\n",
              "      <td>0</td>\n",
              "      <td>0</td>\n",
              "      <td>2</td>\n",
              "      <td>0</td>\n",
              "      <td>0</td>\n",
              "      <td>2</td>\n",
              "    </tr>\n",
              "    <tr>\n",
              "      <th>3</th>\n",
              "      <td>2020-03-05T00:00:00.000Z</td>\n",
              "      <td>1583366400000</td>\n",
              "      <td>1</td>\n",
              "      <td>0</td>\n",
              "      <td>0</td>\n",
              "      <td>0</td>\n",
              "      <td>0</td>\n",
              "      <td>2</td>\n",
              "      <td>0</td>\n",
              "      <td>0</td>\n",
              "      <td>2</td>\n",
              "    </tr>\n",
              "    <tr>\n",
              "      <th>4</th>\n",
              "      <td>2020-03-06T00:00:00.000Z</td>\n",
              "      <td>1583452800000</td>\n",
              "      <td>1</td>\n",
              "      <td>0</td>\n",
              "      <td>0</td>\n",
              "      <td>2</td>\n",
              "      <td>2</td>\n",
              "      <td>4</td>\n",
              "      <td>0</td>\n",
              "      <td>0</td>\n",
              "      <td>4</td>\n",
              "    </tr>\n",
              "  </tbody>\n",
              "</table>\n",
              "</div>\n",
              "      <button class=\"colab-df-convert\" onclick=\"convertToInteractive('df-0f9259b9-68c9-4f04-bd4f-1c53c0736496')\"\n",
              "              title=\"Convert this dataframe to an interactive table.\"\n",
              "              style=\"display:none;\">\n",
              "        \n",
              "  <svg xmlns=\"http://www.w3.org/2000/svg\" height=\"24px\"viewBox=\"0 0 24 24\"\n",
              "       width=\"24px\">\n",
              "    <path d=\"M0 0h24v24H0V0z\" fill=\"none\"/>\n",
              "    <path d=\"M18.56 5.44l.94 2.06.94-2.06 2.06-.94-2.06-.94-.94-2.06-.94 2.06-2.06.94zm-11 1L8.5 8.5l.94-2.06 2.06-.94-2.06-.94L8.5 2.5l-.94 2.06-2.06.94zm10 10l.94 2.06.94-2.06 2.06-.94-2.06-.94-.94-2.06-.94 2.06-2.06.94z\"/><path d=\"M17.41 7.96l-1.37-1.37c-.4-.4-.92-.59-1.43-.59-.52 0-1.04.2-1.43.59L10.3 9.45l-7.72 7.72c-.78.78-.78 2.05 0 2.83L4 21.41c.39.39.9.59 1.41.59.51 0 1.02-.2 1.41-.59l7.78-7.78 2.81-2.81c.8-.78.8-2.07 0-2.86zM5.41 20L4 18.59l7.72-7.72 1.47 1.35L5.41 20z\"/>\n",
              "  </svg>\n",
              "      </button>\n",
              "      \n",
              "  <style>\n",
              "    .colab-df-container {\n",
              "      display:flex;\n",
              "      flex-wrap:wrap;\n",
              "      gap: 12px;\n",
              "    }\n",
              "\n",
              "    .colab-df-convert {\n",
              "      background-color: #E8F0FE;\n",
              "      border: none;\n",
              "      border-radius: 50%;\n",
              "      cursor: pointer;\n",
              "      display: none;\n",
              "      fill: #1967D2;\n",
              "      height: 32px;\n",
              "      padding: 0 0 0 0;\n",
              "      width: 32px;\n",
              "    }\n",
              "\n",
              "    .colab-df-convert:hover {\n",
              "      background-color: #E2EBFA;\n",
              "      box-shadow: 0px 1px 2px rgba(60, 64, 67, 0.3), 0px 1px 3px 1px rgba(60, 64, 67, 0.15);\n",
              "      fill: #174EA6;\n",
              "    }\n",
              "\n",
              "    [theme=dark] .colab-df-convert {\n",
              "      background-color: #3B4455;\n",
              "      fill: #D2E3FC;\n",
              "    }\n",
              "\n",
              "    [theme=dark] .colab-df-convert:hover {\n",
              "      background-color: #434B5C;\n",
              "      box-shadow: 0px 1px 3px 1px rgba(0, 0, 0, 0.15);\n",
              "      filter: drop-shadow(0px 1px 2px rgba(0, 0, 0, 0.3));\n",
              "      fill: #FFFFFF;\n",
              "    }\n",
              "  </style>\n",
              "\n",
              "      <script>\n",
              "        const buttonEl =\n",
              "          document.querySelector('#df-0f9259b9-68c9-4f04-bd4f-1c53c0736496 button.colab-df-convert');\n",
              "        buttonEl.style.display =\n",
              "          google.colab.kernel.accessAllowed ? 'block' : 'none';\n",
              "\n",
              "        async function convertToInteractive(key) {\n",
              "          const element = document.querySelector('#df-0f9259b9-68c9-4f04-bd4f-1c53c0736496');\n",
              "          const dataTable =\n",
              "            await google.colab.kernel.invokeFunction('convertToInteractive',\n",
              "                                                     [key], {});\n",
              "          if (!dataTable) return;\n",
              "\n",
              "          const docLinkHtml = 'Like what you see? Visit the ' +\n",
              "            '<a target=\"_blank\" href=https://colab.research.google.com/notebooks/data_table.ipynb>data table notebook</a>'\n",
              "            + ' to learn more about interactive tables.';\n",
              "          element.innerHTML = '';\n",
              "          dataTable['output_type'] = 'display_data';\n",
              "          await google.colab.output.renderOutput(dataTable, element);\n",
              "          const docLink = document.createElement('div');\n",
              "          docLink.innerHTML = docLinkHtml;\n",
              "          element.appendChild(docLink);\n",
              "        }\n",
              "      </script>\n",
              "    </div>\n",
              "  </div>\n",
              "  "
            ]
          },
          "metadata": {},
          "execution_count": 74
        }
      ]
    },
    {
      "cell_type": "code",
      "source": [
        "# n_rows = len(data['update']['harian'])\n",
        "# x1 = [data['update']['harian'][i]['key_as_string'] for i in range(n_rows), x11 = [data['update']['harian'][i]['jumlah_dirawat_kum']['value'] for i in range(n_rows)]\n",
        "\n",
        "\n",
        "# x1 = [data['update']['harian'][i]['key_as_string'] for i in range(n_rows)]\n",
        "# x2 = [data['update']['harian'][i]['key'] for i in range(n_rows)]\n",
        "# x3 = [data['update']['harian'][i]['doc_count'] for i in range(n_rows)]\n",
        "# x4 = [data['update']['harian'][i]['jumlah_meninggal']['value'] for i in range(n_rows)]\n",
        "# x5 = [data['update']['harian'][i]['jumlah_sembuh']['value'] for i in range(n_rows)]\n",
        "# x6 = [data['update']['harian'][i]['jumlah_positif']['value'] for i in range(n_rows)]\n",
        "# x7 = [data['update']['harian'][i]['jumlah_dirawat']['value'] for i in range(n_rows)]\n",
        "# x8 = [data['update']['harian'][i]['jumlah_positif_kum']['value'] for i in range(n_rows)]\n",
        "# x9 = [data['update']['harian'][i]['jumlah_sembuh_kum']['value'] for i in range(n_rows)]\n",
        "# x10 = [data['update']['harian'][i]['jumlah_meninggal_kum']['value'] for i in range(n_rows)]\n",
        "# x11 = [data['update']['harian'][i]['jumlah_dirawat_kum']['value'] for i in range(n_rows)]\n",
        "\n",
        "# df = pd.DataFrame({\n",
        "#     'x1' : x1,\n",
        "#     'x2' : x2,\n",
        "#     'x3' : x3,\n",
        "#     'x4' : x4,\n",
        "#     'x5' : x5,\n",
        "#     'x6' : x6,\n",
        "#     'x7' : x7,\n",
        "#     'x8' : x8,\n",
        "#     'x9' : x9,\n",
        "#     'x10' : x10,\n",
        "#     'x11' : x11,\n",
        "# })\n",
        "\n",
        "# df.columns = ['key_as_string', 'key', 'doc_count', 'jumlah_meninggal', 'jumlah_sembuh', 'jumlah_positif', 'jumlah_dirawat', \n",
        "#  'jumlah_positif_kum', 'jumlah_sembuh_kum', 'jumlah_meninggal_kum', 'jumlah_dirawat_kum']\n",
        "\n",
        "# df.head()"
      ],
      "metadata": {
        "id": "9m29_PGTUY-E"
      },
      "execution_count": 75,
      "outputs": []
    },
    {
      "cell_type": "code",
      "source": [
        "df.tail()"
      ],
      "metadata": {
        "colab": {
          "base_uri": "https://localhost:8080/",
          "height": 357
        },
        "id": "gcMIgC_VDVIc",
        "outputId": "645649b3-3af8-4ee8-b6e4-5eb18ab0bde7"
      },
      "execution_count": 76,
      "outputs": [
        {
          "output_type": "execute_result",
          "data": {
            "text/plain": [
              "                key_as_string            key  doc_count  jumlah_meninggal  \\\n",
              "919  2022-09-07T00:00:00.000Z  1662508800000          1                21   \n",
              "920  2022-09-08T00:00:00.000Z  1662595200000          1                12   \n",
              "921  2022-09-09T00:00:00.000Z  1662681600000          1                12   \n",
              "922  2022-09-10T00:00:00.000Z  1662768000000          1                16   \n",
              "923  2022-09-11T00:00:00.000Z  1662854400000          1                13   \n",
              "\n",
              "     jumlah_sembuh  jumlah_positif  jumlah_dirawat  jumlah_positif_kum  \\\n",
              "919           3505            3513             -13             6382002   \n",
              "920           3441            3138            -315             6385140   \n",
              "921           5346            2804           -2554             6387944   \n",
              "922           3098            2609            -505             6390553   \n",
              "923           2725            1939            -799             6392492   \n",
              "\n",
              "     jumlah_sembuh_kum  jumlah_meninggal_kum  jumlah_dirawat_kum  \n",
              "919            6186166                157717               38119  \n",
              "920            6189607                157729               37804  \n",
              "921            6194953                157741               35250  \n",
              "922            6198051                157757               34745  \n",
              "923            6200776                157770               33946  "
            ],
            "text/html": [
              "\n",
              "  <div id=\"df-2b3cb5ea-7f3c-4940-9e0e-a53b007a322b\">\n",
              "    <div class=\"colab-df-container\">\n",
              "      <div>\n",
              "<style scoped>\n",
              "    .dataframe tbody tr th:only-of-type {\n",
              "        vertical-align: middle;\n",
              "    }\n",
              "\n",
              "    .dataframe tbody tr th {\n",
              "        vertical-align: top;\n",
              "    }\n",
              "\n",
              "    .dataframe thead th {\n",
              "        text-align: right;\n",
              "    }\n",
              "</style>\n",
              "<table border=\"1\" class=\"dataframe\">\n",
              "  <thead>\n",
              "    <tr style=\"text-align: right;\">\n",
              "      <th></th>\n",
              "      <th>key_as_string</th>\n",
              "      <th>key</th>\n",
              "      <th>doc_count</th>\n",
              "      <th>jumlah_meninggal</th>\n",
              "      <th>jumlah_sembuh</th>\n",
              "      <th>jumlah_positif</th>\n",
              "      <th>jumlah_dirawat</th>\n",
              "      <th>jumlah_positif_kum</th>\n",
              "      <th>jumlah_sembuh_kum</th>\n",
              "      <th>jumlah_meninggal_kum</th>\n",
              "      <th>jumlah_dirawat_kum</th>\n",
              "    </tr>\n",
              "  </thead>\n",
              "  <tbody>\n",
              "    <tr>\n",
              "      <th>919</th>\n",
              "      <td>2022-09-07T00:00:00.000Z</td>\n",
              "      <td>1662508800000</td>\n",
              "      <td>1</td>\n",
              "      <td>21</td>\n",
              "      <td>3505</td>\n",
              "      <td>3513</td>\n",
              "      <td>-13</td>\n",
              "      <td>6382002</td>\n",
              "      <td>6186166</td>\n",
              "      <td>157717</td>\n",
              "      <td>38119</td>\n",
              "    </tr>\n",
              "    <tr>\n",
              "      <th>920</th>\n",
              "      <td>2022-09-08T00:00:00.000Z</td>\n",
              "      <td>1662595200000</td>\n",
              "      <td>1</td>\n",
              "      <td>12</td>\n",
              "      <td>3441</td>\n",
              "      <td>3138</td>\n",
              "      <td>-315</td>\n",
              "      <td>6385140</td>\n",
              "      <td>6189607</td>\n",
              "      <td>157729</td>\n",
              "      <td>37804</td>\n",
              "    </tr>\n",
              "    <tr>\n",
              "      <th>921</th>\n",
              "      <td>2022-09-09T00:00:00.000Z</td>\n",
              "      <td>1662681600000</td>\n",
              "      <td>1</td>\n",
              "      <td>12</td>\n",
              "      <td>5346</td>\n",
              "      <td>2804</td>\n",
              "      <td>-2554</td>\n",
              "      <td>6387944</td>\n",
              "      <td>6194953</td>\n",
              "      <td>157741</td>\n",
              "      <td>35250</td>\n",
              "    </tr>\n",
              "    <tr>\n",
              "      <th>922</th>\n",
              "      <td>2022-09-10T00:00:00.000Z</td>\n",
              "      <td>1662768000000</td>\n",
              "      <td>1</td>\n",
              "      <td>16</td>\n",
              "      <td>3098</td>\n",
              "      <td>2609</td>\n",
              "      <td>-505</td>\n",
              "      <td>6390553</td>\n",
              "      <td>6198051</td>\n",
              "      <td>157757</td>\n",
              "      <td>34745</td>\n",
              "    </tr>\n",
              "    <tr>\n",
              "      <th>923</th>\n",
              "      <td>2022-09-11T00:00:00.000Z</td>\n",
              "      <td>1662854400000</td>\n",
              "      <td>1</td>\n",
              "      <td>13</td>\n",
              "      <td>2725</td>\n",
              "      <td>1939</td>\n",
              "      <td>-799</td>\n",
              "      <td>6392492</td>\n",
              "      <td>6200776</td>\n",
              "      <td>157770</td>\n",
              "      <td>33946</td>\n",
              "    </tr>\n",
              "  </tbody>\n",
              "</table>\n",
              "</div>\n",
              "      <button class=\"colab-df-convert\" onclick=\"convertToInteractive('df-2b3cb5ea-7f3c-4940-9e0e-a53b007a322b')\"\n",
              "              title=\"Convert this dataframe to an interactive table.\"\n",
              "              style=\"display:none;\">\n",
              "        \n",
              "  <svg xmlns=\"http://www.w3.org/2000/svg\" height=\"24px\"viewBox=\"0 0 24 24\"\n",
              "       width=\"24px\">\n",
              "    <path d=\"M0 0h24v24H0V0z\" fill=\"none\"/>\n",
              "    <path d=\"M18.56 5.44l.94 2.06.94-2.06 2.06-.94-2.06-.94-.94-2.06-.94 2.06-2.06.94zm-11 1L8.5 8.5l.94-2.06 2.06-.94-2.06-.94L8.5 2.5l-.94 2.06-2.06.94zm10 10l.94 2.06.94-2.06 2.06-.94-2.06-.94-.94-2.06-.94 2.06-2.06.94z\"/><path d=\"M17.41 7.96l-1.37-1.37c-.4-.4-.92-.59-1.43-.59-.52 0-1.04.2-1.43.59L10.3 9.45l-7.72 7.72c-.78.78-.78 2.05 0 2.83L4 21.41c.39.39.9.59 1.41.59.51 0 1.02-.2 1.41-.59l7.78-7.78 2.81-2.81c.8-.78.8-2.07 0-2.86zM5.41 20L4 18.59l7.72-7.72 1.47 1.35L5.41 20z\"/>\n",
              "  </svg>\n",
              "      </button>\n",
              "      \n",
              "  <style>\n",
              "    .colab-df-container {\n",
              "      display:flex;\n",
              "      flex-wrap:wrap;\n",
              "      gap: 12px;\n",
              "    }\n",
              "\n",
              "    .colab-df-convert {\n",
              "      background-color: #E8F0FE;\n",
              "      border: none;\n",
              "      border-radius: 50%;\n",
              "      cursor: pointer;\n",
              "      display: none;\n",
              "      fill: #1967D2;\n",
              "      height: 32px;\n",
              "      padding: 0 0 0 0;\n",
              "      width: 32px;\n",
              "    }\n",
              "\n",
              "    .colab-df-convert:hover {\n",
              "      background-color: #E2EBFA;\n",
              "      box-shadow: 0px 1px 2px rgba(60, 64, 67, 0.3), 0px 1px 3px 1px rgba(60, 64, 67, 0.15);\n",
              "      fill: #174EA6;\n",
              "    }\n",
              "\n",
              "    [theme=dark] .colab-df-convert {\n",
              "      background-color: #3B4455;\n",
              "      fill: #D2E3FC;\n",
              "    }\n",
              "\n",
              "    [theme=dark] .colab-df-convert:hover {\n",
              "      background-color: #434B5C;\n",
              "      box-shadow: 0px 1px 3px 1px rgba(0, 0, 0, 0.15);\n",
              "      filter: drop-shadow(0px 1px 2px rgba(0, 0, 0, 0.3));\n",
              "      fill: #FFFFFF;\n",
              "    }\n",
              "  </style>\n",
              "\n",
              "      <script>\n",
              "        const buttonEl =\n",
              "          document.querySelector('#df-2b3cb5ea-7f3c-4940-9e0e-a53b007a322b button.colab-df-convert');\n",
              "        buttonEl.style.display =\n",
              "          google.colab.kernel.accessAllowed ? 'block' : 'none';\n",
              "\n",
              "        async function convertToInteractive(key) {\n",
              "          const element = document.querySelector('#df-2b3cb5ea-7f3c-4940-9e0e-a53b007a322b');\n",
              "          const dataTable =\n",
              "            await google.colab.kernel.invokeFunction('convertToInteractive',\n",
              "                                                     [key], {});\n",
              "          if (!dataTable) return;\n",
              "\n",
              "          const docLinkHtml = 'Like what you see? Visit the ' +\n",
              "            '<a target=\"_blank\" href=https://colab.research.google.com/notebooks/data_table.ipynb>data table notebook</a>'\n",
              "            + ' to learn more about interactive tables.';\n",
              "          element.innerHTML = '';\n",
              "          dataTable['output_type'] = 'display_data';\n",
              "          await google.colab.output.renderOutput(dataTable, element);\n",
              "          const docLink = document.createElement('div');\n",
              "          docLink.innerHTML = docLinkHtml;\n",
              "          element.appendChild(docLink);\n",
              "        }\n",
              "      </script>\n",
              "    </div>\n",
              "  </div>\n",
              "  "
            ]
          },
          "metadata": {},
          "execution_count": 76
        }
      ]
    },
    {
      "cell_type": "code",
      "source": [
        "df.head()"
      ],
      "metadata": {
        "colab": {
          "base_uri": "https://localhost:8080/",
          "height": 357
        },
        "id": "QHa8LkpqVPGE",
        "outputId": "d950a8de-273c-4718-de0c-b044a376b0e6"
      },
      "execution_count": 77,
      "outputs": [
        {
          "output_type": "execute_result",
          "data": {
            "text/plain": [
              "              key_as_string            key  doc_count  jumlah_meninggal  \\\n",
              "0  2020-03-02T00:00:00.000Z  1583107200000          1                 0   \n",
              "1  2020-03-03T00:00:00.000Z  1583193600000          1                 0   \n",
              "2  2020-03-04T00:00:00.000Z  1583280000000          1                 0   \n",
              "3  2020-03-05T00:00:00.000Z  1583366400000          1                 0   \n",
              "4  2020-03-06T00:00:00.000Z  1583452800000          1                 0   \n",
              "\n",
              "   jumlah_sembuh  jumlah_positif  jumlah_dirawat  jumlah_positif_kum  \\\n",
              "0              0               2               2                   2   \n",
              "1              0               0               0                   2   \n",
              "2              0               0               0                   2   \n",
              "3              0               0               0                   2   \n",
              "4              0               2               2                   4   \n",
              "\n",
              "   jumlah_sembuh_kum  jumlah_meninggal_kum  jumlah_dirawat_kum  \n",
              "0                  0                     0                   2  \n",
              "1                  0                     0                   2  \n",
              "2                  0                     0                   2  \n",
              "3                  0                     0                   2  \n",
              "4                  0                     0                   4  "
            ],
            "text/html": [
              "\n",
              "  <div id=\"df-ea2de571-881e-4a36-826f-a66bc7e0428a\">\n",
              "    <div class=\"colab-df-container\">\n",
              "      <div>\n",
              "<style scoped>\n",
              "    .dataframe tbody tr th:only-of-type {\n",
              "        vertical-align: middle;\n",
              "    }\n",
              "\n",
              "    .dataframe tbody tr th {\n",
              "        vertical-align: top;\n",
              "    }\n",
              "\n",
              "    .dataframe thead th {\n",
              "        text-align: right;\n",
              "    }\n",
              "</style>\n",
              "<table border=\"1\" class=\"dataframe\">\n",
              "  <thead>\n",
              "    <tr style=\"text-align: right;\">\n",
              "      <th></th>\n",
              "      <th>key_as_string</th>\n",
              "      <th>key</th>\n",
              "      <th>doc_count</th>\n",
              "      <th>jumlah_meninggal</th>\n",
              "      <th>jumlah_sembuh</th>\n",
              "      <th>jumlah_positif</th>\n",
              "      <th>jumlah_dirawat</th>\n",
              "      <th>jumlah_positif_kum</th>\n",
              "      <th>jumlah_sembuh_kum</th>\n",
              "      <th>jumlah_meninggal_kum</th>\n",
              "      <th>jumlah_dirawat_kum</th>\n",
              "    </tr>\n",
              "  </thead>\n",
              "  <tbody>\n",
              "    <tr>\n",
              "      <th>0</th>\n",
              "      <td>2020-03-02T00:00:00.000Z</td>\n",
              "      <td>1583107200000</td>\n",
              "      <td>1</td>\n",
              "      <td>0</td>\n",
              "      <td>0</td>\n",
              "      <td>2</td>\n",
              "      <td>2</td>\n",
              "      <td>2</td>\n",
              "      <td>0</td>\n",
              "      <td>0</td>\n",
              "      <td>2</td>\n",
              "    </tr>\n",
              "    <tr>\n",
              "      <th>1</th>\n",
              "      <td>2020-03-03T00:00:00.000Z</td>\n",
              "      <td>1583193600000</td>\n",
              "      <td>1</td>\n",
              "      <td>0</td>\n",
              "      <td>0</td>\n",
              "      <td>0</td>\n",
              "      <td>0</td>\n",
              "      <td>2</td>\n",
              "      <td>0</td>\n",
              "      <td>0</td>\n",
              "      <td>2</td>\n",
              "    </tr>\n",
              "    <tr>\n",
              "      <th>2</th>\n",
              "      <td>2020-03-04T00:00:00.000Z</td>\n",
              "      <td>1583280000000</td>\n",
              "      <td>1</td>\n",
              "      <td>0</td>\n",
              "      <td>0</td>\n",
              "      <td>0</td>\n",
              "      <td>0</td>\n",
              "      <td>2</td>\n",
              "      <td>0</td>\n",
              "      <td>0</td>\n",
              "      <td>2</td>\n",
              "    </tr>\n",
              "    <tr>\n",
              "      <th>3</th>\n",
              "      <td>2020-03-05T00:00:00.000Z</td>\n",
              "      <td>1583366400000</td>\n",
              "      <td>1</td>\n",
              "      <td>0</td>\n",
              "      <td>0</td>\n",
              "      <td>0</td>\n",
              "      <td>0</td>\n",
              "      <td>2</td>\n",
              "      <td>0</td>\n",
              "      <td>0</td>\n",
              "      <td>2</td>\n",
              "    </tr>\n",
              "    <tr>\n",
              "      <th>4</th>\n",
              "      <td>2020-03-06T00:00:00.000Z</td>\n",
              "      <td>1583452800000</td>\n",
              "      <td>1</td>\n",
              "      <td>0</td>\n",
              "      <td>0</td>\n",
              "      <td>2</td>\n",
              "      <td>2</td>\n",
              "      <td>4</td>\n",
              "      <td>0</td>\n",
              "      <td>0</td>\n",
              "      <td>4</td>\n",
              "    </tr>\n",
              "  </tbody>\n",
              "</table>\n",
              "</div>\n",
              "      <button class=\"colab-df-convert\" onclick=\"convertToInteractive('df-ea2de571-881e-4a36-826f-a66bc7e0428a')\"\n",
              "              title=\"Convert this dataframe to an interactive table.\"\n",
              "              style=\"display:none;\">\n",
              "        \n",
              "  <svg xmlns=\"http://www.w3.org/2000/svg\" height=\"24px\"viewBox=\"0 0 24 24\"\n",
              "       width=\"24px\">\n",
              "    <path d=\"M0 0h24v24H0V0z\" fill=\"none\"/>\n",
              "    <path d=\"M18.56 5.44l.94 2.06.94-2.06 2.06-.94-2.06-.94-.94-2.06-.94 2.06-2.06.94zm-11 1L8.5 8.5l.94-2.06 2.06-.94-2.06-.94L8.5 2.5l-.94 2.06-2.06.94zm10 10l.94 2.06.94-2.06 2.06-.94-2.06-.94-.94-2.06-.94 2.06-2.06.94z\"/><path d=\"M17.41 7.96l-1.37-1.37c-.4-.4-.92-.59-1.43-.59-.52 0-1.04.2-1.43.59L10.3 9.45l-7.72 7.72c-.78.78-.78 2.05 0 2.83L4 21.41c.39.39.9.59 1.41.59.51 0 1.02-.2 1.41-.59l7.78-7.78 2.81-2.81c.8-.78.8-2.07 0-2.86zM5.41 20L4 18.59l7.72-7.72 1.47 1.35L5.41 20z\"/>\n",
              "  </svg>\n",
              "      </button>\n",
              "      \n",
              "  <style>\n",
              "    .colab-df-container {\n",
              "      display:flex;\n",
              "      flex-wrap:wrap;\n",
              "      gap: 12px;\n",
              "    }\n",
              "\n",
              "    .colab-df-convert {\n",
              "      background-color: #E8F0FE;\n",
              "      border: none;\n",
              "      border-radius: 50%;\n",
              "      cursor: pointer;\n",
              "      display: none;\n",
              "      fill: #1967D2;\n",
              "      height: 32px;\n",
              "      padding: 0 0 0 0;\n",
              "      width: 32px;\n",
              "    }\n",
              "\n",
              "    .colab-df-convert:hover {\n",
              "      background-color: #E2EBFA;\n",
              "      box-shadow: 0px 1px 2px rgba(60, 64, 67, 0.3), 0px 1px 3px 1px rgba(60, 64, 67, 0.15);\n",
              "      fill: #174EA6;\n",
              "    }\n",
              "\n",
              "    [theme=dark] .colab-df-convert {\n",
              "      background-color: #3B4455;\n",
              "      fill: #D2E3FC;\n",
              "    }\n",
              "\n",
              "    [theme=dark] .colab-df-convert:hover {\n",
              "      background-color: #434B5C;\n",
              "      box-shadow: 0px 1px 3px 1px rgba(0, 0, 0, 0.15);\n",
              "      filter: drop-shadow(0px 1px 2px rgba(0, 0, 0, 0.3));\n",
              "      fill: #FFFFFF;\n",
              "    }\n",
              "  </style>\n",
              "\n",
              "      <script>\n",
              "        const buttonEl =\n",
              "          document.querySelector('#df-ea2de571-881e-4a36-826f-a66bc7e0428a button.colab-df-convert');\n",
              "        buttonEl.style.display =\n",
              "          google.colab.kernel.accessAllowed ? 'block' : 'none';\n",
              "\n",
              "        async function convertToInteractive(key) {\n",
              "          const element = document.querySelector('#df-ea2de571-881e-4a36-826f-a66bc7e0428a');\n",
              "          const dataTable =\n",
              "            await google.colab.kernel.invokeFunction('convertToInteractive',\n",
              "                                                     [key], {});\n",
              "          if (!dataTable) return;\n",
              "\n",
              "          const docLinkHtml = 'Like what you see? Visit the ' +\n",
              "            '<a target=\"_blank\" href=https://colab.research.google.com/notebooks/data_table.ipynb>data table notebook</a>'\n",
              "            + ' to learn more about interactive tables.';\n",
              "          element.innerHTML = '';\n",
              "          dataTable['output_type'] = 'display_data';\n",
              "          await google.colab.output.renderOutput(dataTable, element);\n",
              "          const docLink = document.createElement('div');\n",
              "          docLink.innerHTML = docLinkHtml;\n",
              "          element.appendChild(docLink);\n",
              "        }\n",
              "      </script>\n",
              "    </div>\n",
              "  </div>\n",
              "  "
            ]
          },
          "metadata": {},
          "execution_count": 77
        }
      ]
    },
    {
      "cell_type": "code",
      "source": [
        "df.describe(include='object')"
      ],
      "metadata": {
        "colab": {
          "base_uri": "https://localhost:8080/",
          "height": 175
        },
        "id": "W_yOutj6COBF",
        "outputId": "adc6d682-fb3d-4ef1-e295-8e060f104717"
      },
      "execution_count": 78,
      "outputs": [
        {
          "output_type": "execute_result",
          "data": {
            "text/plain": [
              "                   key_as_string\n",
              "count                        924\n",
              "unique                       924\n",
              "top     2020-03-02T00:00:00.000Z\n",
              "freq                           1"
            ],
            "text/html": [
              "\n",
              "  <div id=\"df-cd707dd8-a2da-492e-803f-ae030b3331ae\">\n",
              "    <div class=\"colab-df-container\">\n",
              "      <div>\n",
              "<style scoped>\n",
              "    .dataframe tbody tr th:only-of-type {\n",
              "        vertical-align: middle;\n",
              "    }\n",
              "\n",
              "    .dataframe tbody tr th {\n",
              "        vertical-align: top;\n",
              "    }\n",
              "\n",
              "    .dataframe thead th {\n",
              "        text-align: right;\n",
              "    }\n",
              "</style>\n",
              "<table border=\"1\" class=\"dataframe\">\n",
              "  <thead>\n",
              "    <tr style=\"text-align: right;\">\n",
              "      <th></th>\n",
              "      <th>key_as_string</th>\n",
              "    </tr>\n",
              "  </thead>\n",
              "  <tbody>\n",
              "    <tr>\n",
              "      <th>count</th>\n",
              "      <td>924</td>\n",
              "    </tr>\n",
              "    <tr>\n",
              "      <th>unique</th>\n",
              "      <td>924</td>\n",
              "    </tr>\n",
              "    <tr>\n",
              "      <th>top</th>\n",
              "      <td>2020-03-02T00:00:00.000Z</td>\n",
              "    </tr>\n",
              "    <tr>\n",
              "      <th>freq</th>\n",
              "      <td>1</td>\n",
              "    </tr>\n",
              "  </tbody>\n",
              "</table>\n",
              "</div>\n",
              "      <button class=\"colab-df-convert\" onclick=\"convertToInteractive('df-cd707dd8-a2da-492e-803f-ae030b3331ae')\"\n",
              "              title=\"Convert this dataframe to an interactive table.\"\n",
              "              style=\"display:none;\">\n",
              "        \n",
              "  <svg xmlns=\"http://www.w3.org/2000/svg\" height=\"24px\"viewBox=\"0 0 24 24\"\n",
              "       width=\"24px\">\n",
              "    <path d=\"M0 0h24v24H0V0z\" fill=\"none\"/>\n",
              "    <path d=\"M18.56 5.44l.94 2.06.94-2.06 2.06-.94-2.06-.94-.94-2.06-.94 2.06-2.06.94zm-11 1L8.5 8.5l.94-2.06 2.06-.94-2.06-.94L8.5 2.5l-.94 2.06-2.06.94zm10 10l.94 2.06.94-2.06 2.06-.94-2.06-.94-.94-2.06-.94 2.06-2.06.94z\"/><path d=\"M17.41 7.96l-1.37-1.37c-.4-.4-.92-.59-1.43-.59-.52 0-1.04.2-1.43.59L10.3 9.45l-7.72 7.72c-.78.78-.78 2.05 0 2.83L4 21.41c.39.39.9.59 1.41.59.51 0 1.02-.2 1.41-.59l7.78-7.78 2.81-2.81c.8-.78.8-2.07 0-2.86zM5.41 20L4 18.59l7.72-7.72 1.47 1.35L5.41 20z\"/>\n",
              "  </svg>\n",
              "      </button>\n",
              "      \n",
              "  <style>\n",
              "    .colab-df-container {\n",
              "      display:flex;\n",
              "      flex-wrap:wrap;\n",
              "      gap: 12px;\n",
              "    }\n",
              "\n",
              "    .colab-df-convert {\n",
              "      background-color: #E8F0FE;\n",
              "      border: none;\n",
              "      border-radius: 50%;\n",
              "      cursor: pointer;\n",
              "      display: none;\n",
              "      fill: #1967D2;\n",
              "      height: 32px;\n",
              "      padding: 0 0 0 0;\n",
              "      width: 32px;\n",
              "    }\n",
              "\n",
              "    .colab-df-convert:hover {\n",
              "      background-color: #E2EBFA;\n",
              "      box-shadow: 0px 1px 2px rgba(60, 64, 67, 0.3), 0px 1px 3px 1px rgba(60, 64, 67, 0.15);\n",
              "      fill: #174EA6;\n",
              "    }\n",
              "\n",
              "    [theme=dark] .colab-df-convert {\n",
              "      background-color: #3B4455;\n",
              "      fill: #D2E3FC;\n",
              "    }\n",
              "\n",
              "    [theme=dark] .colab-df-convert:hover {\n",
              "      background-color: #434B5C;\n",
              "      box-shadow: 0px 1px 3px 1px rgba(0, 0, 0, 0.15);\n",
              "      filter: drop-shadow(0px 1px 2px rgba(0, 0, 0, 0.3));\n",
              "      fill: #FFFFFF;\n",
              "    }\n",
              "  </style>\n",
              "\n",
              "      <script>\n",
              "        const buttonEl =\n",
              "          document.querySelector('#df-cd707dd8-a2da-492e-803f-ae030b3331ae button.colab-df-convert');\n",
              "        buttonEl.style.display =\n",
              "          google.colab.kernel.accessAllowed ? 'block' : 'none';\n",
              "\n",
              "        async function convertToInteractive(key) {\n",
              "          const element = document.querySelector('#df-cd707dd8-a2da-492e-803f-ae030b3331ae');\n",
              "          const dataTable =\n",
              "            await google.colab.kernel.invokeFunction('convertToInteractive',\n",
              "                                                     [key], {});\n",
              "          if (!dataTable) return;\n",
              "\n",
              "          const docLinkHtml = 'Like what you see? Visit the ' +\n",
              "            '<a target=\"_blank\" href=https://colab.research.google.com/notebooks/data_table.ipynb>data table notebook</a>'\n",
              "            + ' to learn more about interactive tables.';\n",
              "          element.innerHTML = '';\n",
              "          dataTable['output_type'] = 'display_data';\n",
              "          await google.colab.output.renderOutput(dataTable, element);\n",
              "          const docLink = document.createElement('div');\n",
              "          docLink.innerHTML = docLinkHtml;\n",
              "          element.appendChild(docLink);\n",
              "        }\n",
              "      </script>\n",
              "    </div>\n",
              "  </div>\n",
              "  "
            ]
          },
          "metadata": {},
          "execution_count": 78
        }
      ]
    },
    {
      "cell_type": "code",
      "source": [
        "df.describe()"
      ],
      "metadata": {
        "colab": {
          "base_uri": "https://localhost:8080/",
          "height": 300
        },
        "id": "JCLBGhK1DGDh",
        "outputId": "e26a527b-d46c-4407-af34-885e2a2bfc47"
      },
      "execution_count": 79,
      "outputs": [
        {
          "output_type": "execute_result",
          "data": {
            "text/plain": [
              "                key   doc_count  jumlah_meninggal  jumlah_sembuh  \\\n",
              "count  9.240000e+02  924.000000        924.000000     924.000000   \n",
              "mean   1.622981e+12    1.004329        170.746753    6710.796537   \n",
              "std    2.305844e+10    0.065688        313.762466   10169.610354   \n",
              "min    1.583107e+12    1.000000          0.000000       0.000000   \n",
              "25%    1.603044e+12    1.000000         17.000000     616.000000   \n",
              "50%    1.622981e+12    1.000000         79.000000    3617.500000   \n",
              "75%    1.642918e+12    1.000000        172.000000    6800.500000   \n",
              "max    1.662854e+12    2.000000       2069.000000   61361.000000   \n",
              "\n",
              "       jumlah_positif  jumlah_dirawat  jumlah_positif_kum  jumlah_sembuh_kum  \\\n",
              "count      924.000000      924.000000        9.240000e+02       9.240000e+02   \n",
              "mean      6918.281385       36.738095        2.713728e+06       2.538660e+06   \n",
              "std      11041.618604     6388.947929        2.331905e+06       2.256402e+06   \n",
              "min          0.000000   -29938.000000        2.000000e+00       0.000000e+00   \n",
              "25%        702.250000     -706.500000        3.643968e+05       2.882632e+05   \n",
              "50%       3574.500000       78.500000        1.859534e+06       1.708768e+06   \n",
              "75%       6394.750000      677.750000        4.287110e+06       4.123503e+06   \n",
              "max      64718.000000    39165.000000        6.392492e+06       6.200776e+06   \n",
              "\n",
              "       jumlah_meninggal_kum  jumlah_dirawat_kum  \n",
              "count            924.000000          924.000000  \n",
              "mean           77647.102814        97420.893939  \n",
              "std            64448.125412       129115.797293  \n",
              "min                0.000000            2.000000  \n",
              "25%            12590.500000        14100.750000  \n",
              "50%            51707.500000        52180.000000  \n",
              "75%           144221.750000       115216.500000  \n",
              "max           157770.000000       586113.000000  "
            ],
            "text/html": [
              "\n",
              "  <div id=\"df-76379074-b19c-4e0e-a156-cda4361f67ec\">\n",
              "    <div class=\"colab-df-container\">\n",
              "      <div>\n",
              "<style scoped>\n",
              "    .dataframe tbody tr th:only-of-type {\n",
              "        vertical-align: middle;\n",
              "    }\n",
              "\n",
              "    .dataframe tbody tr th {\n",
              "        vertical-align: top;\n",
              "    }\n",
              "\n",
              "    .dataframe thead th {\n",
              "        text-align: right;\n",
              "    }\n",
              "</style>\n",
              "<table border=\"1\" class=\"dataframe\">\n",
              "  <thead>\n",
              "    <tr style=\"text-align: right;\">\n",
              "      <th></th>\n",
              "      <th>key</th>\n",
              "      <th>doc_count</th>\n",
              "      <th>jumlah_meninggal</th>\n",
              "      <th>jumlah_sembuh</th>\n",
              "      <th>jumlah_positif</th>\n",
              "      <th>jumlah_dirawat</th>\n",
              "      <th>jumlah_positif_kum</th>\n",
              "      <th>jumlah_sembuh_kum</th>\n",
              "      <th>jumlah_meninggal_kum</th>\n",
              "      <th>jumlah_dirawat_kum</th>\n",
              "    </tr>\n",
              "  </thead>\n",
              "  <tbody>\n",
              "    <tr>\n",
              "      <th>count</th>\n",
              "      <td>9.240000e+02</td>\n",
              "      <td>924.000000</td>\n",
              "      <td>924.000000</td>\n",
              "      <td>924.000000</td>\n",
              "      <td>924.000000</td>\n",
              "      <td>924.000000</td>\n",
              "      <td>9.240000e+02</td>\n",
              "      <td>9.240000e+02</td>\n",
              "      <td>924.000000</td>\n",
              "      <td>924.000000</td>\n",
              "    </tr>\n",
              "    <tr>\n",
              "      <th>mean</th>\n",
              "      <td>1.622981e+12</td>\n",
              "      <td>1.004329</td>\n",
              "      <td>170.746753</td>\n",
              "      <td>6710.796537</td>\n",
              "      <td>6918.281385</td>\n",
              "      <td>36.738095</td>\n",
              "      <td>2.713728e+06</td>\n",
              "      <td>2.538660e+06</td>\n",
              "      <td>77647.102814</td>\n",
              "      <td>97420.893939</td>\n",
              "    </tr>\n",
              "    <tr>\n",
              "      <th>std</th>\n",
              "      <td>2.305844e+10</td>\n",
              "      <td>0.065688</td>\n",
              "      <td>313.762466</td>\n",
              "      <td>10169.610354</td>\n",
              "      <td>11041.618604</td>\n",
              "      <td>6388.947929</td>\n",
              "      <td>2.331905e+06</td>\n",
              "      <td>2.256402e+06</td>\n",
              "      <td>64448.125412</td>\n",
              "      <td>129115.797293</td>\n",
              "    </tr>\n",
              "    <tr>\n",
              "      <th>min</th>\n",
              "      <td>1.583107e+12</td>\n",
              "      <td>1.000000</td>\n",
              "      <td>0.000000</td>\n",
              "      <td>0.000000</td>\n",
              "      <td>0.000000</td>\n",
              "      <td>-29938.000000</td>\n",
              "      <td>2.000000e+00</td>\n",
              "      <td>0.000000e+00</td>\n",
              "      <td>0.000000</td>\n",
              "      <td>2.000000</td>\n",
              "    </tr>\n",
              "    <tr>\n",
              "      <th>25%</th>\n",
              "      <td>1.603044e+12</td>\n",
              "      <td>1.000000</td>\n",
              "      <td>17.000000</td>\n",
              "      <td>616.000000</td>\n",
              "      <td>702.250000</td>\n",
              "      <td>-706.500000</td>\n",
              "      <td>3.643968e+05</td>\n",
              "      <td>2.882632e+05</td>\n",
              "      <td>12590.500000</td>\n",
              "      <td>14100.750000</td>\n",
              "    </tr>\n",
              "    <tr>\n",
              "      <th>50%</th>\n",
              "      <td>1.622981e+12</td>\n",
              "      <td>1.000000</td>\n",
              "      <td>79.000000</td>\n",
              "      <td>3617.500000</td>\n",
              "      <td>3574.500000</td>\n",
              "      <td>78.500000</td>\n",
              "      <td>1.859534e+06</td>\n",
              "      <td>1.708768e+06</td>\n",
              "      <td>51707.500000</td>\n",
              "      <td>52180.000000</td>\n",
              "    </tr>\n",
              "    <tr>\n",
              "      <th>75%</th>\n",
              "      <td>1.642918e+12</td>\n",
              "      <td>1.000000</td>\n",
              "      <td>172.000000</td>\n",
              "      <td>6800.500000</td>\n",
              "      <td>6394.750000</td>\n",
              "      <td>677.750000</td>\n",
              "      <td>4.287110e+06</td>\n",
              "      <td>4.123503e+06</td>\n",
              "      <td>144221.750000</td>\n",
              "      <td>115216.500000</td>\n",
              "    </tr>\n",
              "    <tr>\n",
              "      <th>max</th>\n",
              "      <td>1.662854e+12</td>\n",
              "      <td>2.000000</td>\n",
              "      <td>2069.000000</td>\n",
              "      <td>61361.000000</td>\n",
              "      <td>64718.000000</td>\n",
              "      <td>39165.000000</td>\n",
              "      <td>6.392492e+06</td>\n",
              "      <td>6.200776e+06</td>\n",
              "      <td>157770.000000</td>\n",
              "      <td>586113.000000</td>\n",
              "    </tr>\n",
              "  </tbody>\n",
              "</table>\n",
              "</div>\n",
              "      <button class=\"colab-df-convert\" onclick=\"convertToInteractive('df-76379074-b19c-4e0e-a156-cda4361f67ec')\"\n",
              "              title=\"Convert this dataframe to an interactive table.\"\n",
              "              style=\"display:none;\">\n",
              "        \n",
              "  <svg xmlns=\"http://www.w3.org/2000/svg\" height=\"24px\"viewBox=\"0 0 24 24\"\n",
              "       width=\"24px\">\n",
              "    <path d=\"M0 0h24v24H0V0z\" fill=\"none\"/>\n",
              "    <path d=\"M18.56 5.44l.94 2.06.94-2.06 2.06-.94-2.06-.94-.94-2.06-.94 2.06-2.06.94zm-11 1L8.5 8.5l.94-2.06 2.06-.94-2.06-.94L8.5 2.5l-.94 2.06-2.06.94zm10 10l.94 2.06.94-2.06 2.06-.94-2.06-.94-.94-2.06-.94 2.06-2.06.94z\"/><path d=\"M17.41 7.96l-1.37-1.37c-.4-.4-.92-.59-1.43-.59-.52 0-1.04.2-1.43.59L10.3 9.45l-7.72 7.72c-.78.78-.78 2.05 0 2.83L4 21.41c.39.39.9.59 1.41.59.51 0 1.02-.2 1.41-.59l7.78-7.78 2.81-2.81c.8-.78.8-2.07 0-2.86zM5.41 20L4 18.59l7.72-7.72 1.47 1.35L5.41 20z\"/>\n",
              "  </svg>\n",
              "      </button>\n",
              "      \n",
              "  <style>\n",
              "    .colab-df-container {\n",
              "      display:flex;\n",
              "      flex-wrap:wrap;\n",
              "      gap: 12px;\n",
              "    }\n",
              "\n",
              "    .colab-df-convert {\n",
              "      background-color: #E8F0FE;\n",
              "      border: none;\n",
              "      border-radius: 50%;\n",
              "      cursor: pointer;\n",
              "      display: none;\n",
              "      fill: #1967D2;\n",
              "      height: 32px;\n",
              "      padding: 0 0 0 0;\n",
              "      width: 32px;\n",
              "    }\n",
              "\n",
              "    .colab-df-convert:hover {\n",
              "      background-color: #E2EBFA;\n",
              "      box-shadow: 0px 1px 2px rgba(60, 64, 67, 0.3), 0px 1px 3px 1px rgba(60, 64, 67, 0.15);\n",
              "      fill: #174EA6;\n",
              "    }\n",
              "\n",
              "    [theme=dark] .colab-df-convert {\n",
              "      background-color: #3B4455;\n",
              "      fill: #D2E3FC;\n",
              "    }\n",
              "\n",
              "    [theme=dark] .colab-df-convert:hover {\n",
              "      background-color: #434B5C;\n",
              "      box-shadow: 0px 1px 3px 1px rgba(0, 0, 0, 0.15);\n",
              "      filter: drop-shadow(0px 1px 2px rgba(0, 0, 0, 0.3));\n",
              "      fill: #FFFFFF;\n",
              "    }\n",
              "  </style>\n",
              "\n",
              "      <script>\n",
              "        const buttonEl =\n",
              "          document.querySelector('#df-76379074-b19c-4e0e-a156-cda4361f67ec button.colab-df-convert');\n",
              "        buttonEl.style.display =\n",
              "          google.colab.kernel.accessAllowed ? 'block' : 'none';\n",
              "\n",
              "        async function convertToInteractive(key) {\n",
              "          const element = document.querySelector('#df-76379074-b19c-4e0e-a156-cda4361f67ec');\n",
              "          const dataTable =\n",
              "            await google.colab.kernel.invokeFunction('convertToInteractive',\n",
              "                                                     [key], {});\n",
              "          if (!dataTable) return;\n",
              "\n",
              "          const docLinkHtml = 'Like what you see? Visit the ' +\n",
              "            '<a target=\"_blank\" href=https://colab.research.google.com/notebooks/data_table.ipynb>data table notebook</a>'\n",
              "            + ' to learn more about interactive tables.';\n",
              "          element.innerHTML = '';\n",
              "          dataTable['output_type'] = 'display_data';\n",
              "          await google.colab.output.renderOutput(dataTable, element);\n",
              "          const docLink = document.createElement('div');\n",
              "          docLink.innerHTML = docLinkHtml;\n",
              "          element.appendChild(docLink);\n",
              "        }\n",
              "      </script>\n",
              "    </div>\n",
              "  </div>\n",
              "  "
            ]
          },
          "metadata": {},
          "execution_count": 79
        }
      ]
    },
    {
      "cell_type": "code",
      "source": [
        "df['year'] = df.key_as_string.apply(lambda x : x.split('-')[0])\n",
        "df['month'] = df.key_as_string.apply(lambda x : x.split('-')[1])\n",
        "df['date'] = df.key_as_string.apply(lambda x : x.split('-')[-1].split('T')[0])\n",
        "df.key_as_string = pd.to_datetime(df.key_as_string)\n",
        "df.set_index('key_as_string', inplace=True)\n",
        "df.head()"
      ],
      "metadata": {
        "colab": {
          "base_uri": "https://localhost:8080/",
          "height": 388
        },
        "id": "EmPuL-PnDQIE",
        "outputId": "cfa68a61-b033-47dc-b63e-08abf89cda87"
      },
      "execution_count": 80,
      "outputs": [
        {
          "output_type": "execute_result",
          "data": {
            "text/plain": [
              "                                     key  doc_count  jumlah_meninggal  \\\n",
              "key_as_string                                                           \n",
              "2020-03-02 00:00:00+00:00  1583107200000          1                 0   \n",
              "2020-03-03 00:00:00+00:00  1583193600000          1                 0   \n",
              "2020-03-04 00:00:00+00:00  1583280000000          1                 0   \n",
              "2020-03-05 00:00:00+00:00  1583366400000          1                 0   \n",
              "2020-03-06 00:00:00+00:00  1583452800000          1                 0   \n",
              "\n",
              "                           jumlah_sembuh  jumlah_positif  jumlah_dirawat  \\\n",
              "key_as_string                                                              \n",
              "2020-03-02 00:00:00+00:00              0               2               2   \n",
              "2020-03-03 00:00:00+00:00              0               0               0   \n",
              "2020-03-04 00:00:00+00:00              0               0               0   \n",
              "2020-03-05 00:00:00+00:00              0               0               0   \n",
              "2020-03-06 00:00:00+00:00              0               2               2   \n",
              "\n",
              "                           jumlah_positif_kum  jumlah_sembuh_kum  \\\n",
              "key_as_string                                                      \n",
              "2020-03-02 00:00:00+00:00                   2                  0   \n",
              "2020-03-03 00:00:00+00:00                   2                  0   \n",
              "2020-03-04 00:00:00+00:00                   2                  0   \n",
              "2020-03-05 00:00:00+00:00                   2                  0   \n",
              "2020-03-06 00:00:00+00:00                   4                  0   \n",
              "\n",
              "                           jumlah_meninggal_kum  jumlah_dirawat_kum  year  \\\n",
              "key_as_string                                                               \n",
              "2020-03-02 00:00:00+00:00                     0                   2  2020   \n",
              "2020-03-03 00:00:00+00:00                     0                   2  2020   \n",
              "2020-03-04 00:00:00+00:00                     0                   2  2020   \n",
              "2020-03-05 00:00:00+00:00                     0                   2  2020   \n",
              "2020-03-06 00:00:00+00:00                     0                   4  2020   \n",
              "\n",
              "                          month date  \n",
              "key_as_string                         \n",
              "2020-03-02 00:00:00+00:00    03   02  \n",
              "2020-03-03 00:00:00+00:00    03   03  \n",
              "2020-03-04 00:00:00+00:00    03   04  \n",
              "2020-03-05 00:00:00+00:00    03   05  \n",
              "2020-03-06 00:00:00+00:00    03   06  "
            ],
            "text/html": [
              "\n",
              "  <div id=\"df-c7c24546-9670-47c5-95bf-5a64153d2ac1\">\n",
              "    <div class=\"colab-df-container\">\n",
              "      <div>\n",
              "<style scoped>\n",
              "    .dataframe tbody tr th:only-of-type {\n",
              "        vertical-align: middle;\n",
              "    }\n",
              "\n",
              "    .dataframe tbody tr th {\n",
              "        vertical-align: top;\n",
              "    }\n",
              "\n",
              "    .dataframe thead th {\n",
              "        text-align: right;\n",
              "    }\n",
              "</style>\n",
              "<table border=\"1\" class=\"dataframe\">\n",
              "  <thead>\n",
              "    <tr style=\"text-align: right;\">\n",
              "      <th></th>\n",
              "      <th>key</th>\n",
              "      <th>doc_count</th>\n",
              "      <th>jumlah_meninggal</th>\n",
              "      <th>jumlah_sembuh</th>\n",
              "      <th>jumlah_positif</th>\n",
              "      <th>jumlah_dirawat</th>\n",
              "      <th>jumlah_positif_kum</th>\n",
              "      <th>jumlah_sembuh_kum</th>\n",
              "      <th>jumlah_meninggal_kum</th>\n",
              "      <th>jumlah_dirawat_kum</th>\n",
              "      <th>year</th>\n",
              "      <th>month</th>\n",
              "      <th>date</th>\n",
              "    </tr>\n",
              "    <tr>\n",
              "      <th>key_as_string</th>\n",
              "      <th></th>\n",
              "      <th></th>\n",
              "      <th></th>\n",
              "      <th></th>\n",
              "      <th></th>\n",
              "      <th></th>\n",
              "      <th></th>\n",
              "      <th></th>\n",
              "      <th></th>\n",
              "      <th></th>\n",
              "      <th></th>\n",
              "      <th></th>\n",
              "      <th></th>\n",
              "    </tr>\n",
              "  </thead>\n",
              "  <tbody>\n",
              "    <tr>\n",
              "      <th>2020-03-02 00:00:00+00:00</th>\n",
              "      <td>1583107200000</td>\n",
              "      <td>1</td>\n",
              "      <td>0</td>\n",
              "      <td>0</td>\n",
              "      <td>2</td>\n",
              "      <td>2</td>\n",
              "      <td>2</td>\n",
              "      <td>0</td>\n",
              "      <td>0</td>\n",
              "      <td>2</td>\n",
              "      <td>2020</td>\n",
              "      <td>03</td>\n",
              "      <td>02</td>\n",
              "    </tr>\n",
              "    <tr>\n",
              "      <th>2020-03-03 00:00:00+00:00</th>\n",
              "      <td>1583193600000</td>\n",
              "      <td>1</td>\n",
              "      <td>0</td>\n",
              "      <td>0</td>\n",
              "      <td>0</td>\n",
              "      <td>0</td>\n",
              "      <td>2</td>\n",
              "      <td>0</td>\n",
              "      <td>0</td>\n",
              "      <td>2</td>\n",
              "      <td>2020</td>\n",
              "      <td>03</td>\n",
              "      <td>03</td>\n",
              "    </tr>\n",
              "    <tr>\n",
              "      <th>2020-03-04 00:00:00+00:00</th>\n",
              "      <td>1583280000000</td>\n",
              "      <td>1</td>\n",
              "      <td>0</td>\n",
              "      <td>0</td>\n",
              "      <td>0</td>\n",
              "      <td>0</td>\n",
              "      <td>2</td>\n",
              "      <td>0</td>\n",
              "      <td>0</td>\n",
              "      <td>2</td>\n",
              "      <td>2020</td>\n",
              "      <td>03</td>\n",
              "      <td>04</td>\n",
              "    </tr>\n",
              "    <tr>\n",
              "      <th>2020-03-05 00:00:00+00:00</th>\n",
              "      <td>1583366400000</td>\n",
              "      <td>1</td>\n",
              "      <td>0</td>\n",
              "      <td>0</td>\n",
              "      <td>0</td>\n",
              "      <td>0</td>\n",
              "      <td>2</td>\n",
              "      <td>0</td>\n",
              "      <td>0</td>\n",
              "      <td>2</td>\n",
              "      <td>2020</td>\n",
              "      <td>03</td>\n",
              "      <td>05</td>\n",
              "    </tr>\n",
              "    <tr>\n",
              "      <th>2020-03-06 00:00:00+00:00</th>\n",
              "      <td>1583452800000</td>\n",
              "      <td>1</td>\n",
              "      <td>0</td>\n",
              "      <td>0</td>\n",
              "      <td>2</td>\n",
              "      <td>2</td>\n",
              "      <td>4</td>\n",
              "      <td>0</td>\n",
              "      <td>0</td>\n",
              "      <td>4</td>\n",
              "      <td>2020</td>\n",
              "      <td>03</td>\n",
              "      <td>06</td>\n",
              "    </tr>\n",
              "  </tbody>\n",
              "</table>\n",
              "</div>\n",
              "      <button class=\"colab-df-convert\" onclick=\"convertToInteractive('df-c7c24546-9670-47c5-95bf-5a64153d2ac1')\"\n",
              "              title=\"Convert this dataframe to an interactive table.\"\n",
              "              style=\"display:none;\">\n",
              "        \n",
              "  <svg xmlns=\"http://www.w3.org/2000/svg\" height=\"24px\"viewBox=\"0 0 24 24\"\n",
              "       width=\"24px\">\n",
              "    <path d=\"M0 0h24v24H0V0z\" fill=\"none\"/>\n",
              "    <path d=\"M18.56 5.44l.94 2.06.94-2.06 2.06-.94-2.06-.94-.94-2.06-.94 2.06-2.06.94zm-11 1L8.5 8.5l.94-2.06 2.06-.94-2.06-.94L8.5 2.5l-.94 2.06-2.06.94zm10 10l.94 2.06.94-2.06 2.06-.94-2.06-.94-.94-2.06-.94 2.06-2.06.94z\"/><path d=\"M17.41 7.96l-1.37-1.37c-.4-.4-.92-.59-1.43-.59-.52 0-1.04.2-1.43.59L10.3 9.45l-7.72 7.72c-.78.78-.78 2.05 0 2.83L4 21.41c.39.39.9.59 1.41.59.51 0 1.02-.2 1.41-.59l7.78-7.78 2.81-2.81c.8-.78.8-2.07 0-2.86zM5.41 20L4 18.59l7.72-7.72 1.47 1.35L5.41 20z\"/>\n",
              "  </svg>\n",
              "      </button>\n",
              "      \n",
              "  <style>\n",
              "    .colab-df-container {\n",
              "      display:flex;\n",
              "      flex-wrap:wrap;\n",
              "      gap: 12px;\n",
              "    }\n",
              "\n",
              "    .colab-df-convert {\n",
              "      background-color: #E8F0FE;\n",
              "      border: none;\n",
              "      border-radius: 50%;\n",
              "      cursor: pointer;\n",
              "      display: none;\n",
              "      fill: #1967D2;\n",
              "      height: 32px;\n",
              "      padding: 0 0 0 0;\n",
              "      width: 32px;\n",
              "    }\n",
              "\n",
              "    .colab-df-convert:hover {\n",
              "      background-color: #E2EBFA;\n",
              "      box-shadow: 0px 1px 2px rgba(60, 64, 67, 0.3), 0px 1px 3px 1px rgba(60, 64, 67, 0.15);\n",
              "      fill: #174EA6;\n",
              "    }\n",
              "\n",
              "    [theme=dark] .colab-df-convert {\n",
              "      background-color: #3B4455;\n",
              "      fill: #D2E3FC;\n",
              "    }\n",
              "\n",
              "    [theme=dark] .colab-df-convert:hover {\n",
              "      background-color: #434B5C;\n",
              "      box-shadow: 0px 1px 3px 1px rgba(0, 0, 0, 0.15);\n",
              "      filter: drop-shadow(0px 1px 2px rgba(0, 0, 0, 0.3));\n",
              "      fill: #FFFFFF;\n",
              "    }\n",
              "  </style>\n",
              "\n",
              "      <script>\n",
              "        const buttonEl =\n",
              "          document.querySelector('#df-c7c24546-9670-47c5-95bf-5a64153d2ac1 button.colab-df-convert');\n",
              "        buttonEl.style.display =\n",
              "          google.colab.kernel.accessAllowed ? 'block' : 'none';\n",
              "\n",
              "        async function convertToInteractive(key) {\n",
              "          const element = document.querySelector('#df-c7c24546-9670-47c5-95bf-5a64153d2ac1');\n",
              "          const dataTable =\n",
              "            await google.colab.kernel.invokeFunction('convertToInteractive',\n",
              "                                                     [key], {});\n",
              "          if (!dataTable) return;\n",
              "\n",
              "          const docLinkHtml = 'Like what you see? Visit the ' +\n",
              "            '<a target=\"_blank\" href=https://colab.research.google.com/notebooks/data_table.ipynb>data table notebook</a>'\n",
              "            + ' to learn more about interactive tables.';\n",
              "          element.innerHTML = '';\n",
              "          dataTable['output_type'] = 'display_data';\n",
              "          await google.colab.output.renderOutput(dataTable, element);\n",
              "          const docLink = document.createElement('div');\n",
              "          docLink.innerHTML = docLinkHtml;\n",
              "          element.appendChild(docLink);\n",
              "        }\n",
              "      </script>\n",
              "    </div>\n",
              "  </div>\n",
              "  "
            ]
          },
          "metadata": {},
          "execution_count": 80
        }
      ]
    },
    {
      "cell_type": "code",
      "source": [
        "df.info()"
      ],
      "metadata": {
        "colab": {
          "base_uri": "https://localhost:8080/"
        },
        "id": "wYMY_5UOGGnh",
        "outputId": "b998914e-6b11-4b7e-c3e3-fde167ef0a79"
      },
      "execution_count": 81,
      "outputs": [
        {
          "output_type": "stream",
          "name": "stdout",
          "text": [
            "<class 'pandas.core.frame.DataFrame'>\n",
            "DatetimeIndex: 924 entries, 2020-03-02 00:00:00+00:00 to 2022-09-11 00:00:00+00:00\n",
            "Data columns (total 13 columns):\n",
            " #   Column                Non-Null Count  Dtype \n",
            "---  ------                --------------  ----- \n",
            " 0   key                   924 non-null    int64 \n",
            " 1   doc_count             924 non-null    int64 \n",
            " 2   jumlah_meninggal      924 non-null    int64 \n",
            " 3   jumlah_sembuh         924 non-null    int64 \n",
            " 4   jumlah_positif        924 non-null    int64 \n",
            " 5   jumlah_dirawat        924 non-null    int64 \n",
            " 6   jumlah_positif_kum    924 non-null    int64 \n",
            " 7   jumlah_sembuh_kum     924 non-null    int64 \n",
            " 8   jumlah_meninggal_kum  924 non-null    int64 \n",
            " 9   jumlah_dirawat_kum    924 non-null    int64 \n",
            " 10  year                  924 non-null    object\n",
            " 11  month                 924 non-null    object\n",
            " 12  date                  924 non-null    object\n",
            "dtypes: int64(10), object(3)\n",
            "memory usage: 101.1+ KB\n"
          ]
        }
      ]
    },
    {
      "cell_type": "code",
      "source": [
        "df.groupby(['year','month']).count()[['key']]"
      ],
      "metadata": {
        "colab": {
          "base_uri": "https://localhost:8080/",
          "height": 1000
        },
        "id": "HLa9O9FsFCkN",
        "outputId": "e9b88d54-94dd-4799-ed61-14b1c62a2956"
      },
      "execution_count": 82,
      "outputs": [
        {
          "output_type": "execute_result",
          "data": {
            "text/plain": [
              "            key\n",
              "year month     \n",
              "2020 03      30\n",
              "     04      30\n",
              "     05      31\n",
              "     06      30\n",
              "     07      31\n",
              "     08      31\n",
              "     09      30\n",
              "     10      31\n",
              "     11      30\n",
              "     12      31\n",
              "2021 01      31\n",
              "     02      28\n",
              "     03      31\n",
              "     04      30\n",
              "     05      31\n",
              "     06      30\n",
              "     07      31\n",
              "     08      31\n",
              "     09      30\n",
              "     10      31\n",
              "     11      30\n",
              "     12      31\n",
              "2022 01      31\n",
              "     02      28\n",
              "     03      31\n",
              "     04      30\n",
              "     05      31\n",
              "     06      30\n",
              "     07      31\n",
              "     08      31\n",
              "     09      11"
            ],
            "text/html": [
              "\n",
              "  <div id=\"df-34f1dff3-d5c4-44b1-8c0b-3dc2af2d5c68\">\n",
              "    <div class=\"colab-df-container\">\n",
              "      <div>\n",
              "<style scoped>\n",
              "    .dataframe tbody tr th:only-of-type {\n",
              "        vertical-align: middle;\n",
              "    }\n",
              "\n",
              "    .dataframe tbody tr th {\n",
              "        vertical-align: top;\n",
              "    }\n",
              "\n",
              "    .dataframe thead th {\n",
              "        text-align: right;\n",
              "    }\n",
              "</style>\n",
              "<table border=\"1\" class=\"dataframe\">\n",
              "  <thead>\n",
              "    <tr style=\"text-align: right;\">\n",
              "      <th></th>\n",
              "      <th></th>\n",
              "      <th>key</th>\n",
              "    </tr>\n",
              "    <tr>\n",
              "      <th>year</th>\n",
              "      <th>month</th>\n",
              "      <th></th>\n",
              "    </tr>\n",
              "  </thead>\n",
              "  <tbody>\n",
              "    <tr>\n",
              "      <th rowspan=\"10\" valign=\"top\">2020</th>\n",
              "      <th>03</th>\n",
              "      <td>30</td>\n",
              "    </tr>\n",
              "    <tr>\n",
              "      <th>04</th>\n",
              "      <td>30</td>\n",
              "    </tr>\n",
              "    <tr>\n",
              "      <th>05</th>\n",
              "      <td>31</td>\n",
              "    </tr>\n",
              "    <tr>\n",
              "      <th>06</th>\n",
              "      <td>30</td>\n",
              "    </tr>\n",
              "    <tr>\n",
              "      <th>07</th>\n",
              "      <td>31</td>\n",
              "    </tr>\n",
              "    <tr>\n",
              "      <th>08</th>\n",
              "      <td>31</td>\n",
              "    </tr>\n",
              "    <tr>\n",
              "      <th>09</th>\n",
              "      <td>30</td>\n",
              "    </tr>\n",
              "    <tr>\n",
              "      <th>10</th>\n",
              "      <td>31</td>\n",
              "    </tr>\n",
              "    <tr>\n",
              "      <th>11</th>\n",
              "      <td>30</td>\n",
              "    </tr>\n",
              "    <tr>\n",
              "      <th>12</th>\n",
              "      <td>31</td>\n",
              "    </tr>\n",
              "    <tr>\n",
              "      <th rowspan=\"12\" valign=\"top\">2021</th>\n",
              "      <th>01</th>\n",
              "      <td>31</td>\n",
              "    </tr>\n",
              "    <tr>\n",
              "      <th>02</th>\n",
              "      <td>28</td>\n",
              "    </tr>\n",
              "    <tr>\n",
              "      <th>03</th>\n",
              "      <td>31</td>\n",
              "    </tr>\n",
              "    <tr>\n",
              "      <th>04</th>\n",
              "      <td>30</td>\n",
              "    </tr>\n",
              "    <tr>\n",
              "      <th>05</th>\n",
              "      <td>31</td>\n",
              "    </tr>\n",
              "    <tr>\n",
              "      <th>06</th>\n",
              "      <td>30</td>\n",
              "    </tr>\n",
              "    <tr>\n",
              "      <th>07</th>\n",
              "      <td>31</td>\n",
              "    </tr>\n",
              "    <tr>\n",
              "      <th>08</th>\n",
              "      <td>31</td>\n",
              "    </tr>\n",
              "    <tr>\n",
              "      <th>09</th>\n",
              "      <td>30</td>\n",
              "    </tr>\n",
              "    <tr>\n",
              "      <th>10</th>\n",
              "      <td>31</td>\n",
              "    </tr>\n",
              "    <tr>\n",
              "      <th>11</th>\n",
              "      <td>30</td>\n",
              "    </tr>\n",
              "    <tr>\n",
              "      <th>12</th>\n",
              "      <td>31</td>\n",
              "    </tr>\n",
              "    <tr>\n",
              "      <th rowspan=\"9\" valign=\"top\">2022</th>\n",
              "      <th>01</th>\n",
              "      <td>31</td>\n",
              "    </tr>\n",
              "    <tr>\n",
              "      <th>02</th>\n",
              "      <td>28</td>\n",
              "    </tr>\n",
              "    <tr>\n",
              "      <th>03</th>\n",
              "      <td>31</td>\n",
              "    </tr>\n",
              "    <tr>\n",
              "      <th>04</th>\n",
              "      <td>30</td>\n",
              "    </tr>\n",
              "    <tr>\n",
              "      <th>05</th>\n",
              "      <td>31</td>\n",
              "    </tr>\n",
              "    <tr>\n",
              "      <th>06</th>\n",
              "      <td>30</td>\n",
              "    </tr>\n",
              "    <tr>\n",
              "      <th>07</th>\n",
              "      <td>31</td>\n",
              "    </tr>\n",
              "    <tr>\n",
              "      <th>08</th>\n",
              "      <td>31</td>\n",
              "    </tr>\n",
              "    <tr>\n",
              "      <th>09</th>\n",
              "      <td>11</td>\n",
              "    </tr>\n",
              "  </tbody>\n",
              "</table>\n",
              "</div>\n",
              "      <button class=\"colab-df-convert\" onclick=\"convertToInteractive('df-34f1dff3-d5c4-44b1-8c0b-3dc2af2d5c68')\"\n",
              "              title=\"Convert this dataframe to an interactive table.\"\n",
              "              style=\"display:none;\">\n",
              "        \n",
              "  <svg xmlns=\"http://www.w3.org/2000/svg\" height=\"24px\"viewBox=\"0 0 24 24\"\n",
              "       width=\"24px\">\n",
              "    <path d=\"M0 0h24v24H0V0z\" fill=\"none\"/>\n",
              "    <path d=\"M18.56 5.44l.94 2.06.94-2.06 2.06-.94-2.06-.94-.94-2.06-.94 2.06-2.06.94zm-11 1L8.5 8.5l.94-2.06 2.06-.94-2.06-.94L8.5 2.5l-.94 2.06-2.06.94zm10 10l.94 2.06.94-2.06 2.06-.94-2.06-.94-.94-2.06-.94 2.06-2.06.94z\"/><path d=\"M17.41 7.96l-1.37-1.37c-.4-.4-.92-.59-1.43-.59-.52 0-1.04.2-1.43.59L10.3 9.45l-7.72 7.72c-.78.78-.78 2.05 0 2.83L4 21.41c.39.39.9.59 1.41.59.51 0 1.02-.2 1.41-.59l7.78-7.78 2.81-2.81c.8-.78.8-2.07 0-2.86zM5.41 20L4 18.59l7.72-7.72 1.47 1.35L5.41 20z\"/>\n",
              "  </svg>\n",
              "      </button>\n",
              "      \n",
              "  <style>\n",
              "    .colab-df-container {\n",
              "      display:flex;\n",
              "      flex-wrap:wrap;\n",
              "      gap: 12px;\n",
              "    }\n",
              "\n",
              "    .colab-df-convert {\n",
              "      background-color: #E8F0FE;\n",
              "      border: none;\n",
              "      border-radius: 50%;\n",
              "      cursor: pointer;\n",
              "      display: none;\n",
              "      fill: #1967D2;\n",
              "      height: 32px;\n",
              "      padding: 0 0 0 0;\n",
              "      width: 32px;\n",
              "    }\n",
              "\n",
              "    .colab-df-convert:hover {\n",
              "      background-color: #E2EBFA;\n",
              "      box-shadow: 0px 1px 2px rgba(60, 64, 67, 0.3), 0px 1px 3px 1px rgba(60, 64, 67, 0.15);\n",
              "      fill: #174EA6;\n",
              "    }\n",
              "\n",
              "    [theme=dark] .colab-df-convert {\n",
              "      background-color: #3B4455;\n",
              "      fill: #D2E3FC;\n",
              "    }\n",
              "\n",
              "    [theme=dark] .colab-df-convert:hover {\n",
              "      background-color: #434B5C;\n",
              "      box-shadow: 0px 1px 3px 1px rgba(0, 0, 0, 0.15);\n",
              "      filter: drop-shadow(0px 1px 2px rgba(0, 0, 0, 0.3));\n",
              "      fill: #FFFFFF;\n",
              "    }\n",
              "  </style>\n",
              "\n",
              "      <script>\n",
              "        const buttonEl =\n",
              "          document.querySelector('#df-34f1dff3-d5c4-44b1-8c0b-3dc2af2d5c68 button.colab-df-convert');\n",
              "        buttonEl.style.display =\n",
              "          google.colab.kernel.accessAllowed ? 'block' : 'none';\n",
              "\n",
              "        async function convertToInteractive(key) {\n",
              "          const element = document.querySelector('#df-34f1dff3-d5c4-44b1-8c0b-3dc2af2d5c68');\n",
              "          const dataTable =\n",
              "            await google.colab.kernel.invokeFunction('convertToInteractive',\n",
              "                                                     [key], {});\n",
              "          if (!dataTable) return;\n",
              "\n",
              "          const docLinkHtml = 'Like what you see? Visit the ' +\n",
              "            '<a target=\"_blank\" href=https://colab.research.google.com/notebooks/data_table.ipynb>data table notebook</a>'\n",
              "            + ' to learn more about interactive tables.';\n",
              "          element.innerHTML = '';\n",
              "          dataTable['output_type'] = 'display_data';\n",
              "          await google.colab.output.renderOutput(dataTable, element);\n",
              "          const docLink = document.createElement('div');\n",
              "          docLink.innerHTML = docLinkHtml;\n",
              "          element.appendChild(docLink);\n",
              "        }\n",
              "      </script>\n",
              "    </div>\n",
              "  </div>\n",
              "  "
            ]
          },
          "metadata": {},
          "execution_count": 82
        }
      ]
    },
    {
      "cell_type": "markdown",
      "source": [
        "Menampilkan grafik jumlah positif,sembuh,meninggal dan dirawat."
      ],
      "metadata": {
        "id": "arnc77uqWuTG"
      }
    },
    {
      "cell_type": "code",
      "source": [
        "import matplotlib.pyplot as plt\n",
        "\n",
        "plt.rcParams['figure.figsize'] = (16,5)\n",
        "plt.plot(df.jumlah_positif, c='r')\n",
        "plt.plot(df.jumlah_positif.rolling(7).mean(), c='g')\n",
        "plt.plot(df.jumlah_positif.rolling(7).std(), c='b')"
      ],
      "metadata": {
        "colab": {
          "base_uri": "https://localhost:8080/",
          "height": 337
        },
        "id": "U2fDgIbiFkyS",
        "outputId": "18e9ec69-819e-4349-cb6a-afa5ea838ec9"
      },
      "execution_count": 83,
      "outputs": [
        {
          "output_type": "execute_result",
          "data": {
            "text/plain": [
              "[<matplotlib.lines.Line2D at 0x7fe8bbfc4490>]"
            ]
          },
          "metadata": {},
          "execution_count": 83
        },
        {
          "output_type": "display_data",
          "data": {
            "text/plain": [
              "<Figure size 1152x360 with 1 Axes>"
            ],
            "image/png": "[encoded data removed]"
          },
          "metadata": {
            "needs_background": "light"
          }
        }
      ]
    },
    {
      "cell_type": "markdown",
      "source": [
        "Dari data dan grafik yang yang di dapat bahwa jumlah positif covid pada tahun 2020 meningkat hingga 5000 di tahun 2021 dan mengalami peningkatan pada tahun 2022 hingga mencapai angka 6000+"
      ],
      "metadata": {
        "id": "bVwc8kHIdJvV"
      }
    },
    {
      "cell_type": "code",
      "source": [
        "plt.rcParams['figure.figsize'] = (16,5)\n",
        "plt.plot(df.jumlah_meninggal, c='r')\n",
        "plt.plot(df.jumlah_meninggal.rolling(7).mean(), c='g')\n",
        "plt.plot(df.jumlah_meninggal.rolling(7).std(), c='b')"
      ],
      "metadata": {
        "colab": {
          "base_uri": "https://localhost:8080/",
          "height": 337
        },
        "id": "ZUXVkh_uV0h-",
        "outputId": "b16bc285-7768-4c6a-88cb-ba9843db6158"
      },
      "execution_count": 84,
      "outputs": [
        {
          "output_type": "execute_result",
          "data": {
            "text/plain": [
              "[<matplotlib.lines.Line2D at 0x7fe8bc1b3130>]"
            ]
          },
          "metadata": {},
          "execution_count": 84
        },
        {
          "output_type": "display_data",
          "data": {
            "text/plain": [
              "<Figure size 1152x360 with 1 Axes>"
            ],
            "image/png": "[encoded data removed]"
          },
          "metadata": {
            "needs_background": "light"
          }
        }
      ]
    },
    {
      "cell_type": "markdown",
      "source": [
        "Dari data dan grafik yang yang di dapat bahwa jumlah meninggal covid pada tahun 2020 meningkat hingga 2000+ di tahun 2021."
      ],
      "metadata": {
        "id": "C6MDD8v6dmJI"
      }
    },
    {
      "cell_type": "code",
      "source": [
        "plt.rcParams['figure.figsize'] = (16,5)\n",
        "plt.plot(df.jumlah_sembuh, c='r')\n",
        "plt.plot(df.jumlah_sembuh.rolling(7).mean(), c='g')\n",
        "plt.plot(df.jumlah_sembuh.rolling(7).std(), c='b')"
      ],
      "metadata": {
        "colab": {
          "base_uri": "https://localhost:8080/",
          "height": 337
        },
        "id": "R0zefT_hWL2K",
        "outputId": "ee839dad-88e0-4365-90d7-e04e0455459d"
      },
      "execution_count": 85,
      "outputs": [
        {
          "output_type": "execute_result",
          "data": {
            "text/plain": [
              "[<matplotlib.lines.Line2D at 0x7fe8bc113910>]"
            ]
          },
          "metadata": {},
          "execution_count": 85
        },
        {
          "output_type": "display_data",
          "data": {
            "text/plain": [
              "<Figure size 1152x360 with 1 Axes>"
            ],
            "image/png": "[encoded data removed]"
          },
          "metadata": {
            "needs_background": "light"
          }
        }
      ]
    },
    {
      "cell_type": "markdown",
      "source": [
        "Dari data dan grafik yang yang di dapat bahwa jumlah meninggal covid pada tahun 2020 meningkat hingga 2000+ di tahun 2021."
      ],
      "metadata": {
        "id": "0leVd_ZAiDWr"
      }
    },
    {
      "cell_type": "code",
      "source": [
        "plt.rcParams['figure.figsize'] = (16,5)\n",
        "plt.plot(df.jumlah_dirawat, c='r')\n",
        "plt.plot(df.jumlah_dirawat.rolling(7).mean(), c='g')\n",
        "plt.plot(df.jumlah_dirawat.rolling(7).std(), c='b')"
      ],
      "metadata": {
        "colab": {
          "base_uri": "https://localhost:8080/",
          "height": 337
        },
        "id": "98LdCrvIV_Ht",
        "outputId": "25b15851-f2fb-4fe5-8635-7d9d7922c1c0"
      },
      "execution_count": 86,
      "outputs": [
        {
          "output_type": "execute_result",
          "data": {
            "text/plain": [
              "[<matplotlib.lines.Line2D at 0x7fe8bbec4dc0>]"
            ]
          },
          "metadata": {},
          "execution_count": 86
        },
        {
          "output_type": "display_data",
          "data": {
            "text/plain": [
              "<Figure size 1152x360 with 1 Axes>"
            ],
            "image/png": "[encoded data removed]"
          },
          "metadata": {
            "needs_background": "light"
          }
        }
      ]
    },
    {
      "cell_type": "markdown",
      "source": [
        "Dari data dan grafik yang yang di dapat bahwa jumlah dirawat covid pada tahun 2021 meningkat hingga 3000+ dan penurunan di tahun yang sama dengan angka -3000 di tahun selanjutnya 2022 mengalami peningkatan kembali hingga 3000+ dan -20000+."
      ],
      "metadata": {
        "id": "U56Jrfjoeo14"
      }
    },
    {
      "cell_type": "code",
      "source": [
        "ts = df.jumlah_positif"
      ],
      "metadata": {
        "id": "S64-DWv4HPSW"
      },
      "execution_count": 87,
      "outputs": []
    },
    {
      "cell_type": "code",
      "source": [
        "from pmdarima.arima import auto_arima"
      ],
      "metadata": {
        "id": "YtGutklrHpVr"
      },
      "execution_count": 88,
      "outputs": []
    },
    {
      "cell_type": "code",
      "source": [
        "from statsmodels.tsa.stattools import adfuller, kpss\n",
        "import warnings\n",
        "warnings.filterwarnings('ignore')\n",
        "\n",
        "def stationary_test(ts_data, alpha):\n",
        "  p_value_adf = adfuller(ts_data)[1]\n",
        "  p_value_kpss = kpss(ts_data)[1]\n",
        "\n",
        "  if p_value_adf<alpha:\n",
        "    adf_res = 'Tolak Ho / data stasioner'\n",
        "  else:\n",
        "    adf_res = 'Terima Ho / data tak stasioner'\n",
        "\n",
        "  if p_value_kpss<alpha:\n",
        "    kpss_res = 'Tolak Ho / data tak stasioner'\n",
        "  else:\n",
        "    kpss_res = 'Terima Ho / data stasioner'\n",
        "  \n",
        "  temp = pd.DataFrame({\n",
        "      'Uji' : ['ADF', 'KPSS'],\n",
        "      'P_value' : [p_value_adf, p_value_kpss],\n",
        "      'Alpha' : [alpha, alpha],\n",
        "      'Result' : [adf_res, kpss_res]\n",
        "  })\n",
        "\n",
        "  return temp\n",
        "\n",
        "stationary_test(ts, .05)"
      ],
      "metadata": {
        "colab": {
          "base_uri": "https://localhost:8080/",
          "height": 112
        },
        "id": "a7xn2DKZIZcI",
        "outputId": "fba2b185-40b7-4a47-bce5-bad1ceaf0253"
      },
      "execution_count": 89,
      "outputs": [
        {
          "output_type": "execute_result",
          "data": {
            "text/plain": [
              "    Uji   P_value  Alpha                      Result\n",
              "0   ADF  0.000291   0.05   Tolak Ho / data stasioner\n",
              "1  KPSS  0.091452   0.05  Terima Ho / data stasioner"
            ],
            "text/html": [
              "\n",
              "  <div id=\"df-7f9857c6-e4c5-48d0-a044-f7039d9d8d5d\">\n",
              "    <div class=\"colab-df-container\">\n",
              "      <div>\n",
              "<style scoped>\n",
              "    .dataframe tbody tr th:only-of-type {\n",
              "        vertical-align: middle;\n",
              "    }\n",
              "\n",
              "    .dataframe tbody tr th {\n",
              "        vertical-align: top;\n",
              "    }\n",
              "\n",
              "    .dataframe thead th {\n",
              "        text-align: right;\n",
              "    }\n",
              "</style>\n",
              "<table border=\"1\" class=\"dataframe\">\n",
              "  <thead>\n",
              "    <tr style=\"text-align: right;\">\n",
              "      <th></th>\n",
              "      <th>Uji</th>\n",
              "      <th>P_value</th>\n",
              "      <th>Alpha</th>\n",
              "      <th>Result</th>\n",
              "    </tr>\n",
              "  </thead>\n",
              "  <tbody>\n",
              "    <tr>\n",
              "      <th>0</th>\n",
              "      <td>ADF</td>\n",
              "      <td>0.000291</td>\n",
              "      <td>0.05</td>\n",
              "      <td>Tolak Ho / data stasioner</td>\n",
              "    </tr>\n",
              "    <tr>\n",
              "      <th>1</th>\n",
              "      <td>KPSS</td>\n",
              "      <td>0.091452</td>\n",
              "      <td>0.05</td>\n",
              "      <td>Terima Ho / data stasioner</td>\n",
              "    </tr>\n",
              "  </tbody>\n",
              "</table>\n",
              "</div>\n",
              "      <button class=\"colab-df-convert\" onclick=\"convertToInteractive('df-7f9857c6-e4c5-48d0-a044-f7039d9d8d5d')\"\n",
              "              title=\"Convert this dataframe to an interactive table.\"\n",
              "              style=\"display:none;\">\n",
              "        \n",
              "  <svg xmlns=\"http://www.w3.org/2000/svg\" height=\"24px\"viewBox=\"0 0 24 24\"\n",
              "       width=\"24px\">\n",
              "    <path d=\"M0 0h24v24H0V0z\" fill=\"none\"/>\n",
              "    <path d=\"M18.56 5.44l.94 2.06.94-2.06 2.06-.94-2.06-.94-.94-2.06-.94 2.06-2.06.94zm-11 1L8.5 8.5l.94-2.06 2.06-.94-2.06-.94L8.5 2.5l-.94 2.06-2.06.94zm10 10l.94 2.06.94-2.06 2.06-.94-2.06-.94-.94-2.06-.94 2.06-2.06.94z\"/><path d=\"M17.41 7.96l-1.37-1.37c-.4-.4-.92-.59-1.43-.59-.52 0-1.04.2-1.43.59L10.3 9.45l-7.72 7.72c-.78.78-.78 2.05 0 2.83L4 21.41c.39.39.9.59 1.41.59.51 0 1.02-.2 1.41-.59l7.78-7.78 2.81-2.81c.8-.78.8-2.07 0-2.86zM5.41 20L4 18.59l7.72-7.72 1.47 1.35L5.41 20z\"/>\n",
              "  </svg>\n",
              "      </button>\n",
              "      \n",
              "  <style>\n",
              "    .colab-df-container {\n",
              "      display:flex;\n",
              "      flex-wrap:wrap;\n",
              "      gap: 12px;\n",
              "    }\n",
              "\n",
              "    .colab-df-convert {\n",
              "      background-color: #E8F0FE;\n",
              "      border: none;\n",
              "      border-radius: 50%;\n",
              "      cursor: pointer;\n",
              "      display: none;\n",
              "      fill: #1967D2;\n",
              "      height: 32px;\n",
              "      padding: 0 0 0 0;\n",
              "      width: 32px;\n",
              "    }\n",
              "\n",
              "    .colab-df-convert:hover {\n",
              "      background-color: #E2EBFA;\n",
              "      box-shadow: 0px 1px 2px rgba(60, 64, 67, 0.3), 0px 1px 3px 1px rgba(60, 64, 67, 0.15);\n",
              "      fill: #174EA6;\n",
              "    }\n",
              "\n",
              "    [theme=dark] .colab-df-convert {\n",
              "      background-color: #3B4455;\n",
              "      fill: #D2E3FC;\n",
              "    }\n",
              "\n",
              "    [theme=dark] .colab-df-convert:hover {\n",
              "      background-color: #434B5C;\n",
              "      box-shadow: 0px 1px 3px 1px rgba(0, 0, 0, 0.15);\n",
              "      filter: drop-shadow(0px 1px 2px rgba(0, 0, 0, 0.3));\n",
              "      fill: #FFFFFF;\n",
              "    }\n",
              "  </style>\n",
              "\n",
              "      <script>\n",
              "        const buttonEl =\n",
              "          document.querySelector('#df-7f9857c6-e4c5-48d0-a044-f7039d9d8d5d button.colab-df-convert');\n",
              "        buttonEl.style.display =\n",
              "          google.colab.kernel.accessAllowed ? 'block' : 'none';\n",
              "\n",
              "        async function convertToInteractive(key) {\n",
              "          const element = document.querySelector('#df-7f9857c6-e4c5-48d0-a044-f7039d9d8d5d');\n",
              "          const dataTable =\n",
              "            await google.colab.kernel.invokeFunction('convertToInteractive',\n",
              "                                                     [key], {});\n",
              "          if (!dataTable) return;\n",
              "\n",
              "          const docLinkHtml = 'Like what you see? Visit the ' +\n",
              "            '<a target=\"_blank\" href=https://colab.research.google.com/notebooks/data_table.ipynb>data table notebook</a>'\n",
              "            + ' to learn more about interactive tables.';\n",
              "          element.innerHTML = '';\n",
              "          dataTable['output_type'] = 'display_data';\n",
              "          await google.colab.output.renderOutput(dataTable, element);\n",
              "          const docLink = document.createElement('div');\n",
              "          docLink.innerHTML = docLinkHtml;\n",
              "          element.appendChild(docLink);\n",
              "        }\n",
              "      </script>\n",
              "    </div>\n",
              "  </div>\n",
              "  "
            ]
          },
          "metadata": {},
          "execution_count": 89
        }
      ]
    },
    {
      "cell_type": "code",
      "source": [
        "from statsmodels.graphics.tsaplots import plot_acf, plot_pacf\n",
        "\n",
        "plot_acf(ts);\n",
        "plot_pacf(ts);"
      ],
      "metadata": {
        "colab": {
          "base_uri": "https://localhost:8080/",
          "height": 655
        },
        "id": "O0PGnHQbInXn",
        "outputId": "f12e4c3b-753b-42a8-f6f4-e98e5cf1caa7"
      },
      "execution_count": 90,
      "outputs": [
        {
          "output_type": "display_data",
          "data": {
            "text/plain": [
              "<Figure size 1152x360 with 1 Axes>"
            ],
            "image/png": "[encoded data removed]"
          },
          "metadata": {
            "needs_background": "light"
          }
        },
        {
          "output_type": "display_data",
          "data": {
            "text/plain": [
              "<Figure size 1152x360 with 1 Axes>"
            ],
            "image/png": "[encoded data removed]"
          },
          "metadata": {
            "needs_background": "light"
          }
        }
      ]
    },
    {
      "cell_type": "markdown",
      "source": [
        "Modelling"
      ],
      "metadata": {
        "id": "l0HuC5GCXIq4"
      }
    },
    {
      "cell_type": "code",
      "source": [
        "data_ts = ts.values\n",
        "splitter = int(.8 * len(data_ts))\n",
        "train, test = data_ts[:splitter], data_ts[splitter:]\n",
        "train.shape, test.shape\n"
      ],
      "metadata": {
        "colab": {
          "base_uri": "https://localhost:8080/"
        },
        "id": "2V4EIspoJqFS",
        "outputId": "ab112efa-5f86-4e19-92c8-18382c53e538"
      },
      "execution_count": 91,
      "outputs": [
        {
          "output_type": "execute_result",
          "data": {
            "text/plain": [
              "((739,), (185,))"
            ]
          },
          "metadata": {},
          "execution_count": 91
        }
      ]
    },
    {
      "cell_type": "code",
      "source": [
        "fig, ax = plt.subplots(1, 1, figsize=(15, 5))\n",
        "ax.plot(data_ts)\n"
      ],
      "metadata": {
        "colab": {
          "base_uri": "https://localhost:8080/",
          "height": 337
        },
        "id": "ELLv0CGhXUrX",
        "outputId": "31a10986-6c21-4e3c-cf37-eb1ee99beaa2"
      },
      "execution_count": 92,
      "outputs": [
        {
          "output_type": "execute_result",
          "data": {
            "text/plain": [
              "[<matplotlib.lines.Line2D at 0x7fe8bbb7c6d0>]"
            ]
          },
          "metadata": {},
          "execution_count": 92
        },
        {
          "output_type": "display_data",
          "data": {
            "text/plain": [
              "<Figure size 1080x360 with 1 Axes>"
            ],
            "image/png": "[encoded data removed]"
          },
          "metadata": {
            "needs_background": "light"
          }
        }
      ]
    },
    {
      "cell_type": "markdown",
      "source": [
        "Dari data yang di dapatkan ini merupakan hasil data split yang dimana data train mencapai angka tertinggi hingga 6000+."
      ],
      "metadata": {
        "id": "XJjMvF1lgyti"
      }
    },
    {
      "cell_type": "code",
      "source": [
        "!pip install pmdarima"
      ],
      "metadata": {
        "colab": {
          "base_uri": "https://localhost:8080/"
        },
        "id": "VXVtiJM-ZIJg",
        "outputId": "f3ea90b6-aacd-4c0b-c7d2-6a97959a9d64"
      },
      "execution_count": 93,
      "outputs": [
        {
          "output_type": "stream",
          "name": "stdout",
          "text": [
            "Looking in indexes: https://pypi.org/simple, https://us-python.pkg.dev/colab-wheels/public/simple/\n",
            "Requirement already satisfied: pmdarima in /usr/local/lib/python3.9/dist-packages (2.0.2)\n",
            "Requirement already satisfied: Cython!=0.29.18,!=0.29.31,>=0.29 in /usr/local/lib/python3.9/dist-packages (from pmdarima) (0.29.33)\n",
            "Requirement already satisfied: statsmodels>=0.13.2 in /usr/local/lib/python3.9/dist-packages (from pmdarima) (0.13.5)\n",
            "Requirement already satisfied: scipy>=1.3.2 in /usr/local/lib/python3.9/dist-packages (from pmdarima) (1.10.1)\n",
            "Requirement already satisfied: joblib>=0.11 in /usr/local/lib/python3.9/dist-packages (from pmdarima) (1.1.1)\n",
            "Requirement already satisfied: numpy>=1.21.2 in /usr/local/lib/python3.9/dist-packages (from pmdarima) (1.22.4)\n",
            "Requirement already satisfied: pandas>=0.19 in /usr/local/lib/python3.9/dist-packages (from pmdarima) (1.4.4)\n",
            "Requirement already satisfied: setuptools!=50.0.0,>=38.6.0 in /usr/local/lib/python3.9/dist-packages (from pmdarima) (57.4.0)\n",
            "Requirement already satisfied: urllib3 in /usr/local/lib/python3.9/dist-packages (from pmdarima) (1.26.14)\n",
            "Requirement already satisfied: scikit-learn>=0.22 in /usr/local/lib/python3.9/dist-packages (from pmdarima) (1.2.2)\n",
            "Requirement already satisfied: pytz>=2020.1 in /usr/local/lib/python3.9/dist-packages (from pandas>=0.19->pmdarima) (2022.7.1)\n",
            "Requirement already satisfied: python-dateutil>=2.8.1 in /usr/local/lib/python3.9/dist-packages (from pandas>=0.19->pmdarima) (2.8.2)\n",
            "Requirement already satisfied: threadpoolctl>=2.0.0 in /usr/local/lib/python3.9/dist-packages (from scikit-learn>=0.22->pmdarima) (3.1.0)\n",
            "Requirement already satisfied: patsy>=0.5.2 in /usr/local/lib/python3.9/dist-packages (from statsmodels>=0.13.2->pmdarima) (0.5.3)\n",
            "Requirement already satisfied: packaging>=21.3 in /usr/local/lib/python3.9/dist-packages (from statsmodels>=0.13.2->pmdarima) (23.0)\n",
            "Requirement already satisfied: six in /usr/local/lib/python3.9/dist-packages (from patsy>=0.5.2->statsmodels>=0.13.2->pmdarima) (1.15.0)\n"
          ]
        }
      ]
    },
    {
      "cell_type": "code",
      "source": [
        "model = auto_arima(train,                       #data training yang akan dimodelkan\n",
        "                      start_p=0,                #awal orde PACF yang dicek\n",
        "                      start_q=0,                #awal orde ACF yang dicek\n",
        "                      test='adf',\n",
        "                      max_p=None,\n",
        "                      max_q=None,\n",
        "                      m=1,                      #menunjukkan period setiap season, karena tidak seasonal maka m=1\n",
        "                      d=None,                   #tidak melalui proses differencing\n",
        "                      seasonal=False,           #tidak terdapat pola seasonal\n",
        "                      method = 'bfgs',          #metode dalam mengoptimasi parameter, bfgs = broyden-fletcher-goldfarb-shanno\n",
        "                      trace=True,               #mencetak beberapa status dari fits\n",
        "                      error_action='ignore',    #error-handling\n",
        "                      suppress_warnings=True,   #mematikan semua peringatan\n",
        "                   )"
      ],
      "metadata": {
        "colab": {
          "base_uri": "https://localhost:8080/"
        },
        "id": "iCby7iIFKM8I",
        "outputId": "5de22c70-eb96-42e8-80f3-90dbe096b95e"
      },
      "execution_count": 94,
      "outputs": [
        {
          "output_type": "stream",
          "name": "stdout",
          "text": [
            "Performing stepwise search to minimize aic\n",
            " ARIMA(0,0,0)(0,0,0)[0]             : AIC=16252.697, Time=0.02 sec\n",
            " ARIMA(1,0,0)(0,0,0)[0]             : AIC=13807.779, Time=0.09 sec\n",
            " ARIMA(0,0,1)(0,0,0)[0]             : AIC=15364.241, Time=0.36 sec\n",
            " ARIMA(2,0,0)(0,0,0)[0]             : AIC=13809.472, Time=0.97 sec\n",
            " ARIMA(1,0,1)(0,0,0)[0]             : AIC=13809.017, Time=0.16 sec\n",
            " ARIMA(2,0,1)(0,0,0)[0]             : AIC=inf, Time=1.20 sec\n",
            " ARIMA(1,0,0)(0,0,0)[0] intercept   : AIC=13806.229, Time=0.19 sec\n",
            " ARIMA(0,0,0)(0,0,0)[0] intercept   : AIC=15989.741, Time=0.08 sec\n",
            " ARIMA(2,0,0)(0,0,0)[0] intercept   : AIC=13808.039, Time=1.15 sec\n",
            " ARIMA(1,0,1)(0,0,0)[0] intercept   : AIC=13807.762, Time=0.24 sec\n",
            " ARIMA(0,0,1)(0,0,0)[0] intercept   : AIC=15128.878, Time=0.69 sec\n",
            " ARIMA(2,0,1)(0,0,0)[0] intercept   : AIC=inf, Time=4.35 sec\n",
            "\n",
            "Best model:  ARIMA(1,0,0)(0,0,0)[0] intercept\n",
            "Total fit time: 9.531 seconds\n"
          ]
        }
      ]
    },
    {
      "cell_type": "code",
      "source": [
        "model = auto_arima(train,                       #data training yang akan dimodelkan\n",
        "                      start_p=0,                #awal orde PACF yang dicek\n",
        "                      start_q=0,                #awal orde ACF yang dicek\n",
        "                      test='adf',\n",
        "                      max_p=None,\n",
        "                      max_q=None,\n",
        "                      m=1,                      #menunjukkan period setiap season, karena tidak seasonal maka m=1\n",
        "                      d=None,                   #tidak melalui proses differencing\n",
        "                      seasonal=True,           #tidak terdapat pola seasonal\n",
        "                      method = 'bfgs',          #metode dalam mengoptimasi parameter, bfgs = broyden-fletcher-goldfarb-shanno\n",
        "                      trace=True,               #mencetak beberapa status dari fits\n",
        "                      error_action='ignore',    #error-handling\n",
        "                      suppress_warnings=True,   #mematikan semua peringatan\n",
        "                   )"
      ],
      "metadata": {
        "colab": {
          "base_uri": "https://localhost:8080/"
        },
        "id": "ddABDFt0MD-G",
        "outputId": "ffecfd5f-08bc-404e-dfd8-faaf71f9990f"
      },
      "execution_count": 95,
      "outputs": [
        {
          "output_type": "stream",
          "name": "stdout",
          "text": [
            "Performing stepwise search to minimize aic\n",
            " ARIMA(0,0,0)(0,0,0)[0] intercept   : AIC=15989.741, Time=0.10 sec\n",
            " ARIMA(1,0,0)(0,0,0)[0] intercept   : AIC=13806.229, Time=0.17 sec\n",
            " ARIMA(0,0,1)(0,0,0)[0] intercept   : AIC=15128.878, Time=1.25 sec\n",
            " ARIMA(0,0,0)(0,0,0)[0]             : AIC=16252.697, Time=0.03 sec\n",
            " ARIMA(2,0,0)(0,0,0)[0] intercept   : AIC=13808.039, Time=1.02 sec\n",
            " ARIMA(1,0,1)(0,0,0)[0] intercept   : AIC=13807.762, Time=0.37 sec\n",
            " ARIMA(2,0,1)(0,0,0)[0] intercept   : AIC=inf, Time=1.61 sec\n",
            " ARIMA(1,0,0)(0,0,0)[0]             : AIC=13807.779, Time=0.08 sec\n",
            "\n",
            "Best model:  ARIMA(1,0,0)(0,0,0)[0] intercept\n",
            "Total fit time: 4.650 seconds\n"
          ]
        }
      ]
    },
    {
      "cell_type": "markdown",
      "source": [
        "**Kesimpulan:**\n",
        "\n",
        "1.   Melakukan modifikasi program coloum dan data frame\n",
        "2.   Menambahkan grafik pada jumlah sembuh , meningggal dan diwarat\n",
        "3.   Menambilkan grafik split data\n",
        "\n",
        "Jadi kesimpulannya  hasil perform menggunakan data arima didapatkan \n",
        "\n",
        "*   Best Model False = ARIMA(1,0,0)(0,0,0)[0] intercept\n",
        "Total fit time: 9.531 seconds\n",
        "*   Best model True:  ARIMA(1,0,0)(0,0,0)[0] intercept\n",
        "Total fit time: 4.650 seconds**"
      ],
      "metadata": {
        "id": "oMLwGkgFhibq"
      }
    }
  ]
}